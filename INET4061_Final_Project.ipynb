{
  "cells": [
    {
      "cell_type": "markdown",
      "metadata": {
        "id": "view-in-github",
        "colab_type": "text"
      },
      "source": [
        "<a href=\"https://colab.research.google.com/github/Jswirls/SchoolAssignments/blob/main/INET4061_Final_Project.ipynb\" target=\"_parent\"><img src=\"https://colab.research.google.com/assets/colab-badge.svg\" alt=\"Open In Colab\"/></a>"
      ]
    },
    {
      "cell_type": "markdown",
      "metadata": {
        "id": "8LYmGdHVCVjz"
      },
      "source": [
        "\n",
        "<font color=\"#483D8B\">\n",
        "<h1 align=\"center\">Reddit Comment Analysis</h1>\n",
        "<h3 align=\"center\"> INET4061 Final Project  </h3>\n",
        "<h5 align=\"center\"> Group 6  </h5>\n",
        "\n",
        "</font>\n",
        "\n",
        "---------------"
      ]
    },
    {
      "cell_type": "markdown",
      "metadata": {
        "id": "HIJ8vPNQ0pYP"
      },
      "source": [
        "#Overview"
      ]
    },
    {
      "cell_type": "markdown",
      "metadata": {
        "id": "xhp-L-ELc9Jb"
      },
      "source": [
        "Our objective in the Analysis is to get a general understanding of the opinions of users on Reddit, one of the top social media sites on the internet which currently has more than 100k active communities and more than 50 billion monthly views. By understanding the most popular opinions of reddit we will be able to better understand the views of its users. This can be helpful in many different fields. A stock investor could use it to better understand people's views on a company, A company could use it to better understand people's views on their products, or a politician could use it to understand how people view them. By properly utilizing this data these entities can optimize their strategies based on how they think the common consensus will affect them.\n",
        "\n",
        "Resources:\n",
        "+ https://www.redditinc.com/\n",
        "+ https://www.digitalocean.com/community/tutorials/how-to-perform-sentiment-analysis-in-python-3-using-the-natural-language-toolkit-nltk\n"
      ]
    },
    {
      "cell_type": "markdown",
      "metadata": {
        "id": "9IO1fpZg0sbb"
      },
      "source": [
        "#Data"
      ]
    },
    {
      "cell_type": "markdown",
      "metadata": {
        "id": "QGy-ngNy1Irg"
      },
      "source": [
        "Data was provided by reddit user Stuck_In_the_Matrix, it consists of approximitly 1.7 billion reddit comments in JSON format. The collection ranges from Oct-2007 to May-2015 and is said to contain reddit's entire publically available comment dataset.\n",
        " \n",
        "The data set contains the following variables\n",
        "+ comment body\n",
        "+ score\n",
        "+ if their score is hidden\n",
        "+ upvotes\n",
        "+ downvotes\n",
        "+ subreddit\n",
        "+ author\n",
        "+ author flair\n",
        "+ date of post\n",
        "+ date of post archival\n",
        "+ gilded\n",
        "+ if the post was edited\n",
        "+ if the post was marked controversial\n",
        " \n",
        "For the purposes of this exercise, we will only be looking at January of 2015, this limits our 1 terabyte dataset to a much more manageable 30GB data set consisting of 53,851,542 comments. Additionally since we are doing a text analysis we will be reducing our variables to the following during our conversion from a JSON to CVS file:\n",
        "+ comment body\n",
        "+ score\n",
        " \n",
        "Data Source:\n",
        "+ https://www.reddit.com/r/datasets/comments/3bxlg7/i_have_every_publicly_available_reddit_comment/\n",
        " \n"
      ]
    },
    {
      "cell_type": "markdown",
      "metadata": {
        "id": "7NPUq7FrK5-N"
      },
      "source": [
        "##Imports"
      ]
    },
    {
      "cell_type": "code",
      "execution_count": null,
      "metadata": {
        "colab": {
          "base_uri": "https://localhost:8080/"
        },
        "id": "SeeB3AnZY8QY",
        "outputId": "25e1d3b0-98c7-44c2-e3ae-67850ca63ab7"
      },
      "outputs": [
        {
          "output_type": "stream",
          "name": "stdout",
          "text": [
            "Requirement already satisfied: ijson in /usr/local/lib/python3.7/dist-packages (3.1.4)\n"
          ]
        }
      ],
      "source": [
        "!pip3 install ijson"
      ]
    },
    {
      "cell_type": "code",
      "execution_count": null,
      "metadata": {
        "colab": {
          "base_uri": "https://localhost:8080/"
        },
        "id": "4AchdFYMwxzH",
        "outputId": "2c1f75d1-4894-4461-b9ee-7d73519ed119"
      },
      "outputs": [
        {
          "output_type": "stream",
          "name": "stderr",
          "text": [
            "/usr/local/lib/python3.7/dist-packages/statsmodels/tools/_testing.py:19: FutureWarning: pandas.util.testing is deprecated. Use the functions in the public API at pandas.testing instead.\n",
            "  import pandas.util.testing as tm\n"
          ]
        }
      ],
      "source": [
        "#Imports\n",
        "import matplotlib.pyplot as plt\n",
        "import pandas as pd\n",
        "import numpy as np\n",
        "from pandas import read_csv\n",
        "import statsmodels.api as sm\n",
        "import ijson\n",
        "import csv\n",
        "\n",
        "import warnings\n",
        "warnings.filterwarnings('ignore')"
      ]
    },
    {
      "cell_type": "markdown",
      "metadata": {
        "id": "a98jBIxUKx0Q"
      },
      "source": [
        "##Convert data to CSV"
      ]
    },
    {
      "cell_type": "code",
      "execution_count": null,
      "metadata": {
        "colab": {
          "base_uri": "https://localhost:8080/",
          "height": 87
        },
        "id": "HGFz5tTQxCVt",
        "outputId": "a6ebbc5c-5226-43c1-b602-bb343db61890"
      },
      "outputs": [
        {
          "output_type": "execute_result",
          "data": {
            "application/vnd.google.colaboratory.intrinsic+json": {
              "type": "string"
            },
            "text/plain": [
              "'\\nfrom google.colab import files\\nwith open(\\'/content/drive/MyDrive/INET4061FinalProject/data\\') as f, open(\"/content/drive/MyDrive/INET4061FinalProject/clean_data.cvs\", \"w\") as outfile:\\n    csvout = csv.writer(outfile)\\n    csvout.writerow([\"score\",\"body\"])\\n    for line in f:\\n        try:\\n            body = \\'\\'\\n            for item in ijson.items(line,\\'body\\'):\\n                body = item\\n\\n            body=body.strip()\\n            body=body.replace(\"\\n\",\"\")\\n            if (\\'delete\\' in body): continue\\n            if len(body) == 0: continue\\n            if (\\'Your submission was removed\\' in body): continue\\n\\n            score = None\\n            for item in ijson.items(line,\\'score\\'):\\n                score = item\\n            if score == None: continue\\n\\n            csvout.writerow([int(score), str(body)]),\\n\\n        except Exception as e:\\n          print(e)\\n'"
            ]
          },
          "metadata": {},
          "execution_count": 8
        }
      ],
      "source": [
        "'''\n",
        "from google.colab import files\n",
        "with open('/content/drive/MyDrive/INET4061FinalProject/data') as f, open(\"/content/drive/MyDrive/INET4061FinalProject/clean_data.cvs\", \"w\") as outfile:\n",
        "    csvout = csv.writer(outfile)\n",
        "    csvout.writerow([\"score\",\"body\"])\n",
        "    for line in f:\n",
        "        try:\n",
        "            body = ''\n",
        "            for item in ijson.items(line,'body'):\n",
        "                body = item\n",
        "\n",
        "            body=body.strip()\n",
        "            body=body.replace(\"\\n\",\"\")\n",
        "            if ('delete' in body): continue\n",
        "            if len(body) == 0: continue\n",
        "            if ('Your submission was removed' in body): continue\n",
        "\n",
        "            score = None\n",
        "            for item in ijson.items(line,'score'):\n",
        "                score = item\n",
        "            if score == None: continue\n",
        "\n",
        "            csvout.writerow([int(score), str(body)]),\n",
        "\n",
        "        except Exception as e:\n",
        "          print(e)\n",
        "'''"
      ]
    },
    {
      "cell_type": "markdown",
      "metadata": {
        "id": "OBSdv9MhLD3P"
      },
      "source": [
        "Here we convert our JSON data set to CSV while also removing deleted or removed posts, posts with hidden scores, and changing our variables to only include score and comment body"
      ]
    },
    {
      "cell_type": "markdown",
      "metadata": {
        "id": "2HknLACrK7ye"
      },
      "source": [
        "##Import created CSV data set"
      ]
    },
    {
      "cell_type": "code",
      "execution_count": null,
      "metadata": {
        "colab": {
          "base_uri": "https://localhost:8080/"
        },
        "id": "YTnATvV8EbC6",
        "outputId": "b3fa3bff-ef00-4d33-fb5d-a9200cc06057"
      },
      "outputs": [
        {
          "output_type": "stream",
          "name": "stdout",
          "text": [
            "Drive already mounted at /content/drive; to attempt to forcibly remount, call drive.mount(\"/content/drive\", force_remount=True).\n"
          ]
        }
      ],
      "source": [
        "from google.colab import drive\n",
        "drive.mount('/content/drive')"
      ]
    },
    {
      "cell_type": "code",
      "execution_count": null,
      "metadata": {
        "id": "BnMPkhcESiMu",
        "colab": {
          "base_uri": "https://localhost:8080/",
          "height": 450
        },
        "outputId": "1d29dc62-47fd-4840-c357-d8fa9338039f"
      },
      "outputs": [
        {
          "output_type": "error",
          "ename": "KeyboardInterrupt",
          "evalue": "ignored",
          "traceback": [
            "\u001b[0;31m---------------------------------------------------------------------------\u001b[0m",
            "\u001b[0;31mKeyboardInterrupt\u001b[0m                         Traceback (most recent call last)",
            "\u001b[0;32m<ipython-input-3-0cbab9cde336>\u001b[0m in \u001b[0;36m<module>\u001b[0;34m()\u001b[0m\n\u001b[0;32m----> 1\u001b[0;31m \u001b[0mdf\u001b[0m \u001b[0;34m=\u001b[0m \u001b[0mpd\u001b[0m\u001b[0;34m.\u001b[0m\u001b[0mread_csv\u001b[0m \u001b[0;34m(\u001b[0m\u001b[0;34mr'/content/drive/MyDrive/INET4061FinalProject/clean_data.cvs'\u001b[0m\u001b[0;34m)\u001b[0m\u001b[0;34m\u001b[0m\u001b[0;34m\u001b[0m\u001b[0m\n\u001b[0m",
            "\u001b[0;32m/usr/local/lib/python3.7/dist-packages/pandas/io/parsers.py\u001b[0m in \u001b[0;36mread_csv\u001b[0;34m(filepath_or_buffer, sep, delimiter, header, names, index_col, usecols, squeeze, prefix, mangle_dupe_cols, dtype, engine, converters, true_values, false_values, skipinitialspace, skiprows, skipfooter, nrows, na_values, keep_default_na, na_filter, verbose, skip_blank_lines, parse_dates, infer_datetime_format, keep_date_col, date_parser, dayfirst, cache_dates, iterator, chunksize, compression, thousands, decimal, lineterminator, quotechar, quoting, doublequote, escapechar, comment, encoding, dialect, error_bad_lines, warn_bad_lines, delim_whitespace, low_memory, memory_map, float_precision)\u001b[0m\n\u001b[1;32m    686\u001b[0m     )\n\u001b[1;32m    687\u001b[0m \u001b[0;34m\u001b[0m\u001b[0m\n\u001b[0;32m--> 688\u001b[0;31m     \u001b[0;32mreturn\u001b[0m \u001b[0m_read\u001b[0m\u001b[0;34m(\u001b[0m\u001b[0mfilepath_or_buffer\u001b[0m\u001b[0;34m,\u001b[0m \u001b[0mkwds\u001b[0m\u001b[0;34m)\u001b[0m\u001b[0;34m\u001b[0m\u001b[0;34m\u001b[0m\u001b[0m\n\u001b[0m\u001b[1;32m    689\u001b[0m \u001b[0;34m\u001b[0m\u001b[0m\n\u001b[1;32m    690\u001b[0m \u001b[0;34m\u001b[0m\u001b[0m\n",
            "\u001b[0;32m/usr/local/lib/python3.7/dist-packages/pandas/io/parsers.py\u001b[0m in \u001b[0;36m_read\u001b[0;34m(filepath_or_buffer, kwds)\u001b[0m\n\u001b[1;32m    458\u001b[0m \u001b[0;34m\u001b[0m\u001b[0m\n\u001b[1;32m    459\u001b[0m     \u001b[0;32mtry\u001b[0m\u001b[0;34m:\u001b[0m\u001b[0;34m\u001b[0m\u001b[0;34m\u001b[0m\u001b[0m\n\u001b[0;32m--> 460\u001b[0;31m         \u001b[0mdata\u001b[0m \u001b[0;34m=\u001b[0m \u001b[0mparser\u001b[0m\u001b[0;34m.\u001b[0m\u001b[0mread\u001b[0m\u001b[0;34m(\u001b[0m\u001b[0mnrows\u001b[0m\u001b[0;34m)\u001b[0m\u001b[0;34m\u001b[0m\u001b[0;34m\u001b[0m\u001b[0m\n\u001b[0m\u001b[1;32m    461\u001b[0m     \u001b[0;32mfinally\u001b[0m\u001b[0;34m:\u001b[0m\u001b[0;34m\u001b[0m\u001b[0;34m\u001b[0m\u001b[0m\n\u001b[1;32m    462\u001b[0m         \u001b[0mparser\u001b[0m\u001b[0;34m.\u001b[0m\u001b[0mclose\u001b[0m\u001b[0;34m(\u001b[0m\u001b[0;34m)\u001b[0m\u001b[0;34m\u001b[0m\u001b[0;34m\u001b[0m\u001b[0m\n",
            "\u001b[0;32m/usr/local/lib/python3.7/dist-packages/pandas/io/parsers.py\u001b[0m in \u001b[0;36mread\u001b[0;34m(self, nrows)\u001b[0m\n\u001b[1;32m   1196\u001b[0m     \u001b[0;32mdef\u001b[0m \u001b[0mread\u001b[0m\u001b[0;34m(\u001b[0m\u001b[0mself\u001b[0m\u001b[0;34m,\u001b[0m \u001b[0mnrows\u001b[0m\u001b[0;34m=\u001b[0m\u001b[0;32mNone\u001b[0m\u001b[0;34m)\u001b[0m\u001b[0;34m:\u001b[0m\u001b[0;34m\u001b[0m\u001b[0;34m\u001b[0m\u001b[0m\n\u001b[1;32m   1197\u001b[0m         \u001b[0mnrows\u001b[0m \u001b[0;34m=\u001b[0m \u001b[0m_validate_integer\u001b[0m\u001b[0;34m(\u001b[0m\u001b[0;34m\"nrows\"\u001b[0m\u001b[0;34m,\u001b[0m \u001b[0mnrows\u001b[0m\u001b[0;34m)\u001b[0m\u001b[0;34m\u001b[0m\u001b[0;34m\u001b[0m\u001b[0m\n\u001b[0;32m-> 1198\u001b[0;31m         \u001b[0mret\u001b[0m \u001b[0;34m=\u001b[0m \u001b[0mself\u001b[0m\u001b[0;34m.\u001b[0m\u001b[0m_engine\u001b[0m\u001b[0;34m.\u001b[0m\u001b[0mread\u001b[0m\u001b[0;34m(\u001b[0m\u001b[0mnrows\u001b[0m\u001b[0;34m)\u001b[0m\u001b[0;34m\u001b[0m\u001b[0;34m\u001b[0m\u001b[0m\n\u001b[0m\u001b[1;32m   1199\u001b[0m \u001b[0;34m\u001b[0m\u001b[0m\n\u001b[1;32m   1200\u001b[0m         \u001b[0;31m# May alter columns / col_dict\u001b[0m\u001b[0;34m\u001b[0m\u001b[0;34m\u001b[0m\u001b[0;34m\u001b[0m\u001b[0m\n",
            "\u001b[0;32m/usr/local/lib/python3.7/dist-packages/pandas/io/parsers.py\u001b[0m in \u001b[0;36mread\u001b[0;34m(self, nrows)\u001b[0m\n\u001b[1;32m   2155\u001b[0m     \u001b[0;32mdef\u001b[0m \u001b[0mread\u001b[0m\u001b[0;34m(\u001b[0m\u001b[0mself\u001b[0m\u001b[0;34m,\u001b[0m \u001b[0mnrows\u001b[0m\u001b[0;34m=\u001b[0m\u001b[0;32mNone\u001b[0m\u001b[0;34m)\u001b[0m\u001b[0;34m:\u001b[0m\u001b[0;34m\u001b[0m\u001b[0;34m\u001b[0m\u001b[0m\n\u001b[1;32m   2156\u001b[0m         \u001b[0;32mtry\u001b[0m\u001b[0;34m:\u001b[0m\u001b[0;34m\u001b[0m\u001b[0;34m\u001b[0m\u001b[0m\n\u001b[0;32m-> 2157\u001b[0;31m             \u001b[0mdata\u001b[0m \u001b[0;34m=\u001b[0m \u001b[0mself\u001b[0m\u001b[0;34m.\u001b[0m\u001b[0m_reader\u001b[0m\u001b[0;34m.\u001b[0m\u001b[0mread\u001b[0m\u001b[0;34m(\u001b[0m\u001b[0mnrows\u001b[0m\u001b[0;34m)\u001b[0m\u001b[0;34m\u001b[0m\u001b[0;34m\u001b[0m\u001b[0m\n\u001b[0m\u001b[1;32m   2158\u001b[0m         \u001b[0;32mexcept\u001b[0m \u001b[0mStopIteration\u001b[0m\u001b[0;34m:\u001b[0m\u001b[0;34m\u001b[0m\u001b[0;34m\u001b[0m\u001b[0m\n\u001b[1;32m   2159\u001b[0m             \u001b[0;32mif\u001b[0m \u001b[0mself\u001b[0m\u001b[0;34m.\u001b[0m\u001b[0m_first_chunk\u001b[0m\u001b[0;34m:\u001b[0m\u001b[0;34m\u001b[0m\u001b[0;34m\u001b[0m\u001b[0m\n",
            "\u001b[0;32mpandas/_libs/parsers.pyx\u001b[0m in \u001b[0;36mpandas._libs.parsers.TextReader.read\u001b[0;34m()\u001b[0m\n",
            "\u001b[0;32mpandas/_libs/parsers.pyx\u001b[0m in \u001b[0;36mpandas._libs.parsers.TextReader._read_low_memory\u001b[0;34m()\u001b[0m\n",
            "\u001b[0;32mpandas/_libs/parsers.pyx\u001b[0m in \u001b[0;36mpandas._libs.parsers.TextReader._read_rows\u001b[0;34m()\u001b[0m\n",
            "\u001b[0;32mpandas/_libs/parsers.pyx\u001b[0m in \u001b[0;36mpandas._libs.parsers.TextReader._convert_column_data\u001b[0;34m()\u001b[0m\n",
            "\u001b[0;32m/usr/local/lib/python3.7/dist-packages/pandas/core/dtypes/common.py\u001b[0m in \u001b[0;36mis_extension_array_dtype\u001b[0;34m(arr_or_dtype)\u001b[0m\n\u001b[1;32m   1458\u001b[0m \u001b[0;34m\u001b[0m\u001b[0m\n\u001b[1;32m   1459\u001b[0m \u001b[0;34m\u001b[0m\u001b[0m\n\u001b[0;32m-> 1460\u001b[0;31m \u001b[0;32mdef\u001b[0m \u001b[0mis_extension_array_dtype\u001b[0m\u001b[0;34m(\u001b[0m\u001b[0marr_or_dtype\u001b[0m\u001b[0;34m)\u001b[0m \u001b[0;34m->\u001b[0m \u001b[0mbool\u001b[0m\u001b[0;34m:\u001b[0m\u001b[0;34m\u001b[0m\u001b[0;34m\u001b[0m\u001b[0m\n\u001b[0m\u001b[1;32m   1461\u001b[0m     \"\"\"\n\u001b[1;32m   1462\u001b[0m     \u001b[0mCheck\u001b[0m \u001b[0;32mif\u001b[0m \u001b[0man\u001b[0m \u001b[0mobject\u001b[0m \u001b[0;32mis\u001b[0m \u001b[0ma\u001b[0m \u001b[0mpandas\u001b[0m \u001b[0mextension\u001b[0m \u001b[0marray\u001b[0m \u001b[0mtype\u001b[0m\u001b[0;34m.\u001b[0m\u001b[0;34m\u001b[0m\u001b[0;34m\u001b[0m\u001b[0m\n",
            "\u001b[0;31mKeyboardInterrupt\u001b[0m: "
          ]
        }
      ],
      "source": [
        "df = pd.read_csv (r'/content/drive/MyDrive/INET4061FinalProject/clean_data.cvs')"
      ]
    },
    {
      "cell_type": "markdown",
      "metadata": {
        "id": "CaHwsCc5U0aR"
      },
      "source": [
        "#EDA"
      ]
    },
    {
      "cell_type": "markdown",
      "metadata": {
        "id": "Kus9V3ux9yE_"
      },
      "source": [
        "###Data shape"
      ]
    },
    {
      "cell_type": "code",
      "execution_count": null,
      "metadata": {
        "colab": {
          "base_uri": "https://localhost:8080/"
        },
        "id": "sHYnbx3LSdYv",
        "outputId": "e346001e-c328-4140-f208-120d71837411"
      },
      "outputs": [
        {
          "data": {
            "text/plain": [
              "(50436513, 2)"
            ]
          },
          "execution_count": 6,
          "metadata": {},
          "output_type": "execute_result"
        }
      ],
      "source": [
        "df.shape"
      ]
    },
    {
      "cell_type": "markdown",
      "metadata": {
        "id": "JENuiGcLS5ns"
      },
      "source": [
        "After converting our dataset to CVS and ignoring the deleted, without body, and without score comments, we are left with a dataset containing 50,436,513 entries"
      ]
    },
    {
      "cell_type": "markdown",
      "metadata": {
        "id": "TgMGyzxr90MB"
      },
      "source": [
        "###Count of NaNs"
      ]
    },
    {
      "cell_type": "code",
      "execution_count": null,
      "metadata": {
        "colab": {
          "base_uri": "https://localhost:8080/"
        },
        "id": "O3VQKYhBVch_",
        "outputId": "a8d5c5e3-66b5-43ed-c145-df3dd1237922"
      },
      "outputs": [
        {
          "name": "stdout",
          "output_type": "stream",
          "text": [
            "Count of NaN: \n",
            "206\n"
          ]
        }
      ],
      "source": [
        "print(\"Count of NaN: \\n\" + str(df.isnull().sum().sum()))"
      ]
    },
    {
      "cell_type": "markdown",
      "metadata": {
        "id": "ypfpRjsnSr5h"
      },
      "source": [
        "206 NaN values were found"
      ]
    },
    {
      "cell_type": "markdown",
      "metadata": {
        "id": "StDE-m-n94qt"
      },
      "source": [
        "###Remove NaNs"
      ]
    },
    {
      "cell_type": "code",
      "execution_count": null,
      "metadata": {
        "colab": {
          "base_uri": "https://localhost:8080/",
          "height": 423
        },
        "id": "1LM0UHToSJFj",
        "outputId": "3edb6758-d5d0-40cc-d0a7-e08a38432aab"
      },
      "outputs": [
        {
          "data": {
            "text/html": [
              "<div>\n",
              "<style scoped>\n",
              "    .dataframe tbody tr th:only-of-type {\n",
              "        vertical-align: middle;\n",
              "    }\n",
              "\n",
              "    .dataframe tbody tr th {\n",
              "        vertical-align: top;\n",
              "    }\n",
              "\n",
              "    .dataframe thead th {\n",
              "        text-align: right;\n",
              "    }\n",
              "</style>\n",
              "<table border=\"1\" class=\"dataframe\">\n",
              "  <thead>\n",
              "    <tr style=\"text-align: right;\">\n",
              "      <th></th>\n",
              "      <th>score</th>\n",
              "      <th>body</th>\n",
              "    </tr>\n",
              "  </thead>\n",
              "  <tbody>\n",
              "    <tr>\n",
              "      <th>0</th>\n",
              "      <td>14</td>\n",
              "      <td>Most of us have some family members like this....</td>\n",
              "    </tr>\n",
              "    <tr>\n",
              "      <th>1</th>\n",
              "      <td>3</td>\n",
              "      <td>But Mill's career was way better. Bentham is l...</td>\n",
              "    </tr>\n",
              "    <tr>\n",
              "      <th>2</th>\n",
              "      <td>1</td>\n",
              "      <td>Mine uses a strait razor, and as much as i lov...</td>\n",
              "    </tr>\n",
              "    <tr>\n",
              "      <th>3</th>\n",
              "      <td>2</td>\n",
              "      <td>Very fast, thank you!</td>\n",
              "    </tr>\n",
              "    <tr>\n",
              "      <th>4</th>\n",
              "      <td>6</td>\n",
              "      <td>The guy is a professional, and very good at wh...</td>\n",
              "    </tr>\n",
              "    <tr>\n",
              "      <th>...</th>\n",
              "      <td>...</td>\n",
              "      <td>...</td>\n",
              "    </tr>\n",
              "    <tr>\n",
              "      <th>50436508</th>\n",
              "      <td>1</td>\n",
              "      <td>Shhh, let's not turn this murder into a rape.</td>\n",
              "    </tr>\n",
              "    <tr>\n",
              "      <th>50436509</th>\n",
              "      <td>2</td>\n",
              "      <td>I use the lee filter system.        That way I...</td>\n",
              "    </tr>\n",
              "    <tr>\n",
              "      <th>50436510</th>\n",
              "      <td>1</td>\n",
              "      <td>Because it's set to flash by default (which is...</td>\n",
              "    </tr>\n",
              "    <tr>\n",
              "      <th>50436511</th>\n",
              "      <td>1</td>\n",
              "      <td>looks good</td>\n",
              "    </tr>\n",
              "    <tr>\n",
              "      <th>50436512</th>\n",
              "      <td>3</td>\n",
              "      <td>You can already shoot through walls without Sh...</td>\n",
              "    </tr>\n",
              "  </tbody>\n",
              "</table>\n",
              "<p>50436307 rows × 2 columns</p>\n",
              "</div>"
            ],
            "text/plain": [
              "          score                                               body\n",
              "0            14  Most of us have some family members like this....\n",
              "1             3  But Mill's career was way better. Bentham is l...\n",
              "2             1  Mine uses a strait razor, and as much as i lov...\n",
              "3             2                              Very fast, thank you!\n",
              "4             6  The guy is a professional, and very good at wh...\n",
              "...         ...                                                ...\n",
              "50436508      1      Shhh, let's not turn this murder into a rape.\n",
              "50436509      2  I use the lee filter system.        That way I...\n",
              "50436510      1  Because it's set to flash by default (which is...\n",
              "50436511      1                                         looks good\n",
              "50436512      3  You can already shoot through walls without Sh...\n",
              "\n",
              "[50436307 rows x 2 columns]"
            ]
          },
          "execution_count": 8,
          "metadata": {},
          "output_type": "execute_result"
        }
      ],
      "source": [
        "df.dropna()"
      ]
    },
    {
      "cell_type": "markdown",
      "metadata": {
        "id": "vSosV3SNSvx7"
      },
      "source": [
        "After dropping NaN values we are left with a dataset that has 50,436,307 entries. "
      ]
    },
    {
      "cell_type": "markdown",
      "metadata": {
        "id": "9QWu1Yj_98pC"
      },
      "source": [
        "###Data Description"
      ]
    },
    {
      "cell_type": "code",
      "execution_count": null,
      "metadata": {
        "colab": {
          "base_uri": "https://localhost:8080/",
          "height": 300
        },
        "id": "NB_wxP87Uyn-",
        "outputId": "f64556f9-0d5c-41b2-f331-f6de46bd981e"
      },
      "outputs": [
        {
          "data": {
            "text/html": [
              "<div>\n",
              "<style scoped>\n",
              "    .dataframe tbody tr th:only-of-type {\n",
              "        vertical-align: middle;\n",
              "    }\n",
              "\n",
              "    .dataframe tbody tr th {\n",
              "        vertical-align: top;\n",
              "    }\n",
              "\n",
              "    .dataframe thead th {\n",
              "        text-align: right;\n",
              "    }\n",
              "</style>\n",
              "<table border=\"1\" class=\"dataframe\">\n",
              "  <thead>\n",
              "    <tr style=\"text-align: right;\">\n",
              "      <th></th>\n",
              "      <th>score</th>\n",
              "    </tr>\n",
              "  </thead>\n",
              "  <tbody>\n",
              "    <tr>\n",
              "      <th>count</th>\n",
              "      <td>50436513.00</td>\n",
              "    </tr>\n",
              "    <tr>\n",
              "      <th>mean</th>\n",
              "      <td>5.47</td>\n",
              "    </tr>\n",
              "    <tr>\n",
              "      <th>std</th>\n",
              "      <td>47.70</td>\n",
              "    </tr>\n",
              "    <tr>\n",
              "      <th>min</th>\n",
              "      <td>-1941.00</td>\n",
              "    </tr>\n",
              "    <tr>\n",
              "      <th>25%</th>\n",
              "      <td>1.00</td>\n",
              "    </tr>\n",
              "    <tr>\n",
              "      <th>50%</th>\n",
              "      <td>1.00</td>\n",
              "    </tr>\n",
              "    <tr>\n",
              "      <th>75%</th>\n",
              "      <td>3.00</td>\n",
              "    </tr>\n",
              "    <tr>\n",
              "      <th>max</th>\n",
              "      <td>6597.00</td>\n",
              "    </tr>\n",
              "  </tbody>\n",
              "</table>\n",
              "</div>"
            ],
            "text/plain": [
              "             score\n",
              "count  50436513.00\n",
              "mean          5.47\n",
              "std          47.70\n",
              "min       -1941.00\n",
              "25%           1.00\n",
              "50%           1.00\n",
              "75%           3.00\n",
              "max        6597.00"
            ]
          },
          "execution_count": 9,
          "metadata": {},
          "output_type": "execute_result"
        }
      ],
      "source": [
        "df.describe().round(2)"
      ]
    },
    {
      "cell_type": "markdown",
      "metadata": {
        "id": "7GEdiqH_oGqu"
      },
      "source": [
        "Our data has a maximum negative comment score of -1,941 and a maximum positive comment score of 6,597. Our average comment score is 4.47 over the starting comment score of 1, meaning that the majority of votes are positive.\n",
        " \n"
      ]
    },
    {
      "cell_type": "markdown",
      "metadata": {
        "id": "S9YxvrEj-A-N"
      },
      "source": [
        "###Data Sample"
      ]
    },
    {
      "cell_type": "code",
      "execution_count": null,
      "metadata": {
        "colab": {
          "base_uri": "https://localhost:8080/",
          "height": 363
        },
        "id": "hQQq42DGov_i",
        "outputId": "4857887c-649c-4606-83a1-a586aa217c18"
      },
      "outputs": [
        {
          "data": {
            "text/html": [
              "<div>\n",
              "<style scoped>\n",
              "    .dataframe tbody tr th:only-of-type {\n",
              "        vertical-align: middle;\n",
              "    }\n",
              "\n",
              "    .dataframe tbody tr th {\n",
              "        vertical-align: top;\n",
              "    }\n",
              "\n",
              "    .dataframe thead th {\n",
              "        text-align: right;\n",
              "    }\n",
              "</style>\n",
              "<table border=\"1\" class=\"dataframe\">\n",
              "  <thead>\n",
              "    <tr style=\"text-align: right;\">\n",
              "      <th></th>\n",
              "      <th>score</th>\n",
              "      <th>body</th>\n",
              "    </tr>\n",
              "  </thead>\n",
              "  <tbody>\n",
              "    <tr>\n",
              "      <th>0</th>\n",
              "      <td>14</td>\n",
              "      <td>Most of us have some family members like this....</td>\n",
              "    </tr>\n",
              "    <tr>\n",
              "      <th>1</th>\n",
              "      <td>3</td>\n",
              "      <td>But Mill's career was way better. Bentham is l...</td>\n",
              "    </tr>\n",
              "    <tr>\n",
              "      <th>2</th>\n",
              "      <td>1</td>\n",
              "      <td>Mine uses a strait razor, and as much as i lov...</td>\n",
              "    </tr>\n",
              "    <tr>\n",
              "      <th>3</th>\n",
              "      <td>2</td>\n",
              "      <td>Very fast, thank you!</td>\n",
              "    </tr>\n",
              "    <tr>\n",
              "      <th>4</th>\n",
              "      <td>6</td>\n",
              "      <td>The guy is a professional, and very good at wh...</td>\n",
              "    </tr>\n",
              "    <tr>\n",
              "      <th>5</th>\n",
              "      <td>1</td>\n",
              "      <td>This is a great question, and I want to thank ...</td>\n",
              "    </tr>\n",
              "    <tr>\n",
              "      <th>6</th>\n",
              "      <td>1</td>\n",
              "      <td>Is the IE-Shiv-Ghostblade-Zerks-LW-BT Still no...</td>\n",
              "    </tr>\n",
              "    <tr>\n",
              "      <th>7</th>\n",
              "      <td>1</td>\n",
              "      <td>:D.</td>\n",
              "    </tr>\n",
              "    <tr>\n",
              "      <th>8</th>\n",
              "      <td>2</td>\n",
              "      <td>I don't know how to describe it.  Gently pinch...</td>\n",
              "    </tr>\n",
              "    <tr>\n",
              "      <th>9</th>\n",
              "      <td>2</td>\n",
              "      <td>says you my g</td>\n",
              "    </tr>\n",
              "  </tbody>\n",
              "</table>\n",
              "</div>"
            ],
            "text/plain": [
              "   score                                               body\n",
              "0     14  Most of us have some family members like this....\n",
              "1      3  But Mill's career was way better. Bentham is l...\n",
              "2      1  Mine uses a strait razor, and as much as i lov...\n",
              "3      2                              Very fast, thank you!\n",
              "4      6  The guy is a professional, and very good at wh...\n",
              "5      1  This is a great question, and I want to thank ...\n",
              "6      1  Is the IE-Shiv-Ghostblade-Zerks-LW-BT Still no...\n",
              "7      1                                                :D.\n",
              "8      2  I don't know how to describe it.  Gently pinch...\n",
              "9      2                                      says you my g"
            ]
          },
          "execution_count": 10,
          "metadata": {},
          "output_type": "execute_result"
        }
      ],
      "source": [
        "df.head(10)"
      ]
    },
    {
      "cell_type": "markdown",
      "metadata": {
        "id": "8EZZZ-IEo0bX"
      },
      "source": [
        "Our data set is not organized"
      ]
    },
    {
      "cell_type": "markdown",
      "metadata": {
        "id": "WG38AbKO-DHG"
      },
      "source": [
        "###Organize Data by score"
      ]
    },
    {
      "cell_type": "code",
      "execution_count": null,
      "metadata": {
        "id": "RRaGiCMHokzC"
      },
      "outputs": [],
      "source": [
        "df = df.sort_values(by=['score'])"
      ]
    },
    {
      "cell_type": "code",
      "execution_count": null,
      "metadata": {
        "colab": {
          "base_uri": "https://localhost:8080/",
          "height": 206
        },
        "id": "sRZCwOZZpHyQ",
        "outputId": "baf1a716-ab49-4061-a16d-3d353ef296b0"
      },
      "outputs": [
        {
          "data": {
            "text/html": [
              "<div>\n",
              "<style scoped>\n",
              "    .dataframe tbody tr th:only-of-type {\n",
              "        vertical-align: middle;\n",
              "    }\n",
              "\n",
              "    .dataframe tbody tr th {\n",
              "        vertical-align: top;\n",
              "    }\n",
              "\n",
              "    .dataframe thead th {\n",
              "        text-align: right;\n",
              "    }\n",
              "</style>\n",
              "<table border=\"1\" class=\"dataframe\">\n",
              "  <thead>\n",
              "    <tr style=\"text-align: right;\">\n",
              "      <th></th>\n",
              "      <th>score</th>\n",
              "      <th>body</th>\n",
              "    </tr>\n",
              "  </thead>\n",
              "  <tbody>\n",
              "    <tr>\n",
              "      <th>27681259</th>\n",
              "      <td>-1941</td>\n",
              "      <td>Oh, bitch please. You've been threatening to l...</td>\n",
              "    </tr>\n",
              "    <tr>\n",
              "      <th>32412658</th>\n",
              "      <td>-1588</td>\n",
              "      <td>You hush with your facts, these things only wo...</td>\n",
              "    </tr>\n",
              "    <tr>\n",
              "      <th>18890275</th>\n",
              "      <td>-1141</td>\n",
              "      <td>Hi Carlos, I'm a die hard Datsun/Nissan fan th...</td>\n",
              "    </tr>\n",
              "    <tr>\n",
              "      <th>18858922</th>\n",
              "      <td>-1052</td>\n",
              "      <td>What was your first car?</td>\n",
              "    </tr>\n",
              "    <tr>\n",
              "      <th>49355643</th>\n",
              "      <td>-964</td>\n",
              "      <td>I appreciate the effort you put into this, but...</td>\n",
              "    </tr>\n",
              "  </tbody>\n",
              "</table>\n",
              "</div>"
            ],
            "text/plain": [
              "          score                                               body\n",
              "27681259  -1941  Oh, bitch please. You've been threatening to l...\n",
              "32412658  -1588  You hush with your facts, these things only wo...\n",
              "18890275  -1141  Hi Carlos, I'm a die hard Datsun/Nissan fan th...\n",
              "18858922  -1052                           What was your first car?\n",
              "49355643   -964  I appreciate the effort you put into this, but..."
            ]
          },
          "execution_count": 12,
          "metadata": {},
          "output_type": "execute_result"
        }
      ],
      "source": [
        "df.head()"
      ]
    },
    {
      "cell_type": "code",
      "execution_count": null,
      "metadata": {
        "colab": {
          "base_uri": "https://localhost:8080/",
          "height": 206
        },
        "id": "JK38AwVI5vCl",
        "outputId": "e2ccbc07-ec39-434f-8197-53bc2c2f8353"
      },
      "outputs": [
        {
          "data": {
            "text/html": [
              "<div>\n",
              "<style scoped>\n",
              "    .dataframe tbody tr th:only-of-type {\n",
              "        vertical-align: middle;\n",
              "    }\n",
              "\n",
              "    .dataframe tbody tr th {\n",
              "        vertical-align: top;\n",
              "    }\n",
              "\n",
              "    .dataframe thead th {\n",
              "        text-align: right;\n",
              "    }\n",
              "</style>\n",
              "<table border=\"1\" class=\"dataframe\">\n",
              "  <thead>\n",
              "    <tr style=\"text-align: right;\">\n",
              "      <th></th>\n",
              "      <th>score</th>\n",
              "      <th>body</th>\n",
              "    </tr>\n",
              "  </thead>\n",
              "  <tbody>\n",
              "    <tr>\n",
              "      <th>4703922</th>\n",
              "      <td>5831</td>\n",
              "      <td>This same Gaston refused to sign my bicep 2 da...</td>\n",
              "    </tr>\n",
              "    <tr>\n",
              "      <th>20535593</th>\n",
              "      <td>5835</td>\n",
              "      <td>This is actually a good question that can illu...</td>\n",
              "    </tr>\n",
              "    <tr>\n",
              "      <th>25763001</th>\n",
              "      <td>6105</td>\n",
              "      <td>Should have sent Zack a dick pic.</td>\n",
              "    </tr>\n",
              "    <tr>\n",
              "      <th>28935009</th>\n",
              "      <td>6448</td>\n",
              "      <td>Am I the only person pissed off that she has t...</td>\n",
              "    </tr>\n",
              "    <tr>\n",
              "      <th>19926851</th>\n",
              "      <td>6597</td>\n",
              "      <td>I can answer this one.  For some reason, I att...</td>\n",
              "    </tr>\n",
              "  </tbody>\n",
              "</table>\n",
              "</div>"
            ],
            "text/plain": [
              "          score                                               body\n",
              "4703922    5831  This same Gaston refused to sign my bicep 2 da...\n",
              "20535593   5835  This is actually a good question that can illu...\n",
              "25763001   6105                  Should have sent Zack a dick pic.\n",
              "28935009   6448  Am I the only person pissed off that she has t...\n",
              "19926851   6597  I can answer this one.  For some reason, I att..."
            ]
          },
          "execution_count": 13,
          "metadata": {},
          "output_type": "execute_result"
        }
      ],
      "source": [
        "df.tail()"
      ]
    },
    {
      "cell_type": "markdown",
      "metadata": {
        "id": "5upBNoTl-JBK"
      },
      "source": [
        "##Split data into positive and negative score sets"
      ]
    },
    {
      "cell_type": "code",
      "execution_count": null,
      "metadata": {
        "id": "TStOPtNZ83Nd"
      },
      "outputs": [],
      "source": [
        "setsize = int(len(df)*0.0005)\n",
        "df_negative_scores = df.head(setsize)\n",
        "df_positive_scores = df.tail(setsize)"
      ]
    },
    {
      "cell_type": "markdown",
      "metadata": {
        "id": "7cVDJFNyd0yZ"
      },
      "source": [
        "Split into positive and negative datasets by taking the top/bottom 0.05% of comments. totalling 25,218 comments for each set. This way we get popular negative/positive posts."
      ]
    },
    {
      "cell_type": "markdown",
      "metadata": {
        "id": "mHyEUhvj-R12"
      },
      "source": [
        "###Describe Split Data"
      ]
    },
    {
      "cell_type": "code",
      "execution_count": null,
      "metadata": {
        "colab": {
          "base_uri": "https://localhost:8080/"
        },
        "id": "Sr9izvN26Igj",
        "outputId": "5b0c7803-96f7-40de-c63a-8bbd09df94f3"
      },
      "outputs": [
        {
          "name": "stdout",
          "output_type": "stream",
          "text": [
            "Negative Data\n",
            "              score\n",
            "count  25218.000000\n",
            "mean     -55.532556\n",
            "std       42.097860\n",
            "min    -1941.000000\n",
            "25%      -59.000000\n",
            "50%      -44.000000\n",
            "75%      -37.000000\n",
            "max      -32.000000\n",
            "\n",
            "Positive Data\n",
            "              score\n",
            "count  25218.000000\n",
            "mean    1685.013720\n",
            "std      847.231538\n",
            "min      848.000000\n",
            "25%     1047.000000\n",
            "50%     1385.000000\n",
            "75%     2064.000000\n",
            "max     6597.000000\n"
          ]
        }
      ],
      "source": [
        "print('Negative Data')\n",
        "print(df_negative_scores.describe())\n",
        "print('\\nPositive Data')\n",
        "print(df_positive_scores.describe())"
      ]
    },
    {
      "cell_type": "markdown",
      "metadata": {
        "id": "Zbn5EdiuLrfc"
      },
      "source": [
        "Our negative data ranges from -32 to -1,941 with a mean of -55.53 and a standard deviation of 42.1. \n",
        "\n",
        "Our positive data ranges from 848 to 6,597 with a mean of 1,685 and a standard deviation of 847.2\n",
        "\n",
        "Our positive data set has a larger range of values, standard deviation"
      ]
    },
    {
      "cell_type": "markdown",
      "metadata": {
        "id": "O2CZmco6GrFh"
      },
      "source": [
        "##Plot Split Data"
      ]
    },
    {
      "cell_type": "code",
      "execution_count": null,
      "metadata": {
        "colab": {
          "base_uri": "https://localhost:8080/",
          "height": 1000
        },
        "id": "H_VkuImS-j8b",
        "outputId": "efa0c512-93da-4e48-940f-779ea5705614"
      },
      "outputs": [
        {
          "data": {
            "text/plain": [
              "(848.0, 5848.0)"
            ]
          },
          "execution_count": 16,
          "metadata": {},
          "output_type": "execute_result"
        },
        {
          "data": {
            "image/png": "[encoded data removed]",
            "text/plain": [
              "<Figure size 1440x1080 with 2 Axes>"
            ]
          },
          "metadata": {},
          "output_type": "display_data"
        }
      ],
      "source": [
        "fig, (ax1, ax2) = plt.subplots(2)\n",
        "fig.suptitle('Comment Scores')\n",
        "fig.set_figwidth(20)\n",
        "fig.set_figheight(15)\n",
        "\n",
        "\n",
        "ax1.hist(df_negative_scores['score'], bins = 100, density = True);\n",
        "ax1.set_title('Negative Scores')\n",
        "ax1.set(xlabel='Score', ylabel='Density')\n",
        "ax1.set_xlim([df_negative_scores.iloc[-1]['score'], df_negative_scores.iloc[-1]['score']-5000])\n",
        "\n",
        "\n",
        "ax2.hist(df_positive_scores['score'], bins = 100, density = True);\n",
        "ax2.set_title('Positive Scores')\n",
        "ax2.set(xlabel='Score', ylabel='Density')\n",
        "ax2.set_xlim([df_positive_scores.iloc[0]['score'], df_positive_scores.iloc[0]['score']+5000])"
      ]
    },
    {
      "cell_type": "markdown",
      "metadata": {
        "id": "ZW_K8C-1FqWL"
      },
      "source": [
        "We can clearly see that our positive scores have much higher occurrences of large values compared to our negative scores. This makes sense as reddit likely does not promote negative comments. Meaning that extremely negative comments likely occur due to them being as a reply to an extremely positive post, or if they go viral due to how unpopular the opinion is. \n",
        " \n"
      ]
    },
    {
      "cell_type": "markdown",
      "metadata": {
        "id": "XoRkk8JIH9WG"
      },
      "source": [
        "#Models"
      ]
    },
    {
      "cell_type": "code",
      "execution_count": null,
      "metadata": {
        "id": "fiSHG0OECikN"
      },
      "outputs": [],
      "source": [
        "pos_comments = df_positive_scores[\"body\"].to_numpy()\n",
        "neg_comments = df_negative_scores[\"body\"].to_numpy()"
      ]
    },
    {
      "cell_type": "code",
      "execution_count": null,
      "metadata": {
        "colab": {
          "base_uri": "https://localhost:8080/"
        },
        "id": "TfwvX09pTBlI",
        "outputId": "4f5ed9a8-a4bf-4183-d21e-c0eff2941cd4"
      },
      "outputs": [
        {
          "name": "stdout",
          "output_type": "stream",
          "text": [
            "[nltk_data] Downloading package punkt to /root/nltk_data...\n",
            "[nltk_data]   Unzipping tokenizers/punkt.zip.\n"
          ]
        },
        {
          "data": {
            "text/plain": [
              "True"
            ]
          },
          "execution_count": 18,
          "metadata": {},
          "output_type": "execute_result"
        }
      ],
      "source": [
        "#Code outline taken from exercise 11, https://www.digitalocean.com/community/tutorials/how-to-perform-sentiment-analysis-in-python-3-using-the-natural-language-toolkit-nltk\n",
        "import nltk\n",
        "nltk.download('punkt')"
      ]
    },
    {
      "cell_type": "code",
      "execution_count": null,
      "metadata": {
        "id": "XIHN8057RPLE"
      },
      "outputs": [],
      "source": [
        "from nltk.tokenize import word_tokenize\n",
        "\n",
        "pos_token_comments = [word_tokenize(i) for i in pos_comments]\n",
        "neg_token_comments = [word_tokenize(i) for i in neg_comments]"
      ]
    },
    {
      "cell_type": "markdown",
      "metadata": {
        "id": "od7Hxq-PdGuI"
      },
      "source": [
        "Tokenizes the comments so that indvidual words can be looked at."
      ]
    },
    {
      "cell_type": "code",
      "execution_count": null,
      "metadata": {
        "id": "v2WA3qo-S2Mz"
      },
      "outputs": [],
      "source": [
        "from nltk.tag import pos_tag\n",
        "from nltk.stem.wordnet import WordNetLemmatizer\n",
        "\n",
        "def lemmatize_sentence(tokens):\n",
        "    lemmatizer = WordNetLemmatizer()\n",
        "    lemmatized_sentence = []\n",
        "    for word, tag in pos_tag(tokens):\n",
        "        if tag.startswith('NN'):\n",
        "            pos = 'n'\n",
        "        elif tag.startswith('VB'):\n",
        "            pos = 'v'\n",
        "        else:\n",
        "            pos = 'a'\n",
        "        lemmatized_sentence.append(lemmatizer.lemmatize(word, pos))\n",
        "    return lemmatized_sentence"
      ]
    },
    {
      "cell_type": "markdown",
      "metadata": {
        "id": "W3sMahH9omf-"
      },
      "source": [
        "Word Lemmatizer so that verisions of a word are grouped together"
      ]
    },
    {
      "cell_type": "code",
      "execution_count": null,
      "metadata": {
        "id": "cJlOssMPS2-T"
      },
      "outputs": [],
      "source": [
        "import re, string\n",
        "\n",
        "def remove_noise(tweet_tokens, stop_words = ()):\n",
        "\n",
        "    cleaned_tokens = []\n",
        "\n",
        "    for token, tag in pos_tag(tweet_tokens):\n",
        "        token = re.sub('http[s]?://(?:[a-zA-Z]|[0-9]|[$-_@.&+#]|[!*\\(\\),]|'\\\n",
        "                       '(?:%[0-9a-fA-F][0-9a-fA-F]))+','', token)\n",
        "        token = re.sub(\"(@[A-Za-z0-9_]+)\",\"\", token)\n",
        "\n",
        "        if tag.startswith(\"NN\"):\n",
        "            pos = 'n'\n",
        "        elif tag.startswith('VB'):\n",
        "            pos = 'v'\n",
        "        else:\n",
        "            pos = 'a'\n",
        "        lemmatizer = WordNetLemmatizer()\n",
        "        token = lemmatizer.lemmatize(token, pos)\n",
        "\n",
        "        if  tag.startswith(\"NNP\") and len(token) > 0 and token not in string.punctuation and token.lower() not in stop_words:\n",
        "            cleaned_tokens.append(token.lower())\n",
        "    return cleaned_tokens"
      ]
    },
    {
      "cell_type": "markdown",
      "metadata": {
        "id": "0dhzR55Do2FZ"
      },
      "source": [
        "Removes Noisy words like the, a, an ect. Takes in a list of words specificaly to remove. Lemmatizes the word before hand to make sure it takes out potentially different versions of a word that should be removed"
      ]
    },
    {
      "cell_type": "code",
      "execution_count": null,
      "metadata": {
        "colab": {
          "base_uri": "https://localhost:8080/"
        },
        "id": "K48rfg9pS6me",
        "outputId": "45376f22-0cf9-4d5e-c4cd-9797e70c65c8"
      },
      "outputs": [
        {
          "name": "stdout",
          "output_type": "stream",
          "text": [
            "[nltk_data] Downloading package stopwords to /root/nltk_data...\n",
            "[nltk_data]   Unzipping corpora/stopwords.zip.\n"
          ]
        },
        {
          "data": {
            "text/plain": [
              "True"
            ]
          },
          "execution_count": 22,
          "metadata": {},
          "output_type": "execute_result"
        }
      ],
      "source": [
        "nltk.download('stopwords')"
      ]
    },
    {
      "cell_type": "code",
      "execution_count": null,
      "metadata": {
        "colab": {
          "base_uri": "https://localhost:8080/"
        },
        "id": "St5BWnDgFq3Y",
        "outputId": "1e84b937-a0fd-477f-835d-37f978235b14"
      },
      "outputs": [
        {
          "name": "stdout",
          "output_type": "stream",
          "text": [
            "[nltk_data] Downloading package averaged_perceptron_tagger to\n",
            "[nltk_data]     /root/nltk_data...\n",
            "[nltk_data]   Unzipping taggers/averaged_perceptron_tagger.zip.\n",
            "[nltk_data] Downloading package wordnet to /root/nltk_data...\n",
            "[nltk_data]   Unzipping corpora/wordnet.zip.\n"
          ]
        },
        {
          "data": {
            "text/plain": [
              "True"
            ]
          },
          "execution_count": 23,
          "metadata": {},
          "output_type": "execute_result"
        }
      ],
      "source": [
        "nltk.download('averaged_perceptron_tagger')\n",
        "nltk.download('wordnet')"
      ]
    },
    {
      "cell_type": "code",
      "execution_count": null,
      "metadata": {
        "id": "TD2xVn_FTIdc"
      },
      "outputs": [],
      "source": [
        "from nltk.corpus import stopwords\n",
        "stop_words = stopwords.words('english')\n",
        "stop_words.append(\"'s\")\n",
        "stop_words.append(\"n't\")\n",
        "stop_words.append(\"'m\")\n",
        "stop_words.append('``')\n",
        "stop_words.append(\"''\")\n",
        "stop_words.append(\"'\")\n",
        "stop_words.append('\"')\n",
        "pos_cleaned_tokens_list = []\n",
        "neg_cleaned_tokens_list = []\n",
        "\n",
        "for tokens in pos_token_comments:\n",
        "    pos_cleaned_tokens_list.append(remove_noise(tokens, stop_words))\n",
        "\n",
        "for tokens in neg_token_comments:\n",
        "    neg_cleaned_tokens_list.append(remove_noise(tokens, stop_words))"
      ]
    },
    {
      "cell_type": "markdown",
      "metadata": {
        "id": "Sk3mB6nDd4uC"
      },
      "source": [
        "Takes all the stopwords from nltk, plus some added phrases that were not being removed. It then passes these words into the remove noise function from before The result gives all relevant words for both lists."
      ]
    },
    {
      "cell_type": "code",
      "execution_count": null,
      "metadata": {
        "id": "rggOOukLT0gz"
      },
      "outputs": [],
      "source": [
        "def get_all_words(cleaned_tokens_list):\n",
        "    for tokens in cleaned_tokens_list:\n",
        "        for token in tokens:\n",
        "            yield token\n",
        "\n",
        "all_pos_words = get_all_words(pos_cleaned_tokens_list)\n",
        "all_neg_words = get_all_words(neg_cleaned_tokens_list)"
      ]
    },
    {
      "cell_type": "code",
      "execution_count": null,
      "metadata": {
        "id": "75OAwWwhT1OL"
      },
      "outputs": [],
      "source": [
        "from nltk import FreqDist\n",
        "\n",
        "freq_dist_pos = FreqDist(all_pos_words)\n",
        "freq_dist_neg = FreqDist(all_neg_words)"
      ]
    },
    {
      "cell_type": "markdown",
      "metadata": {
        "id": "VNhSE9kJoSO3"
      },
      "source": [
        "Gets the frequency distrabution for both the positive and negative datasets"
      ]
    },
    {
      "cell_type": "code",
      "execution_count": null,
      "metadata": {
        "id": "lZ4UzKpQsKKb"
      },
      "outputs": [],
      "source": [
        "import pandas as pd\n",
        "from matplotlib import pyplot as plt\n",
        "import seaborn as sns"
      ]
    },
    {
      "cell_type": "code",
      "execution_count": null,
      "metadata": {
        "colab": {
          "base_uri": "https://localhost:8080/",
          "height": 616
        },
        "id": "EffUyzl_rOHB",
        "outputId": "5fbb2279-d16e-4200-e214-3ea40c445a04"
      },
      "outputs": [
        {
          "data": {
            "image/png": "[encoded data removed]",
            "text/plain": [
              "<Figure size 1440x720 with 1 Axes>"
            ]
          },
          "metadata": {},
          "output_type": "display_data"
        }
      ],
      "source": [
        "all_fdist = freq_dist_pos.most_common(30)\n",
        "\n",
        "all_fdist = pd.Series(dict(all_fdist))\n",
        "\n",
        "fig, ax = plt.subplots(figsize=(20,10))\n",
        "all_plot = sns.barplot(x=all_fdist.index, y=all_fdist.values, ax=ax)\n",
        "plt.xticks(rotation=30);"
      ]
    },
    {
      "cell_type": "markdown",
      "metadata": {
        "id": "zRFJCrbmF63E"
      },
      "source": [
        "The graph shows frequency of the positive words used most, op means original poster, and is commonly used on reddit to refer to the author of the post. This is why it is so high. The rest make some sense to their ranking."
      ]
    },
    {
      "cell_type": "code",
      "execution_count": null,
      "metadata": {
        "colab": {
          "base_uri": "https://localhost:8080/",
          "height": 741
        },
        "id": "K1fF-N5AsMJV",
        "outputId": "166e5747-a413-4f0b-a39f-c3dd8959cd21"
      },
      "outputs": [
        {
          "data": {
            "image/png": "[encoded data removed]",
            "text/plain": [
              "<Figure size 1440x720 with 1 Axes>"
            ]
          },
          "metadata": {},
          "output_type": "display_data"
        }
      ],
      "source": [
        "all_fdist = freq_dist_neg.most_common(30)\n",
        "\n",
        "all_fdist = pd.Series(dict(all_fdist))\n",
        "\n",
        "fig, ax = plt.subplots(figsize=(20,10))\n",
        "all_plot = sns.barplot(x=all_fdist.index, y=all_fdist.values, ax=ax)\n",
        "plt.xticks(rotation=30);"
      ]
    },
    {
      "cell_type": "markdown",
      "metadata": {
        "id": "gk1M85ODGDy-"
      },
      "source": [
        "The graph shows frequency of the negative words used most. A lot of words are similar to the postive version, which may make sense as they are common words, however their are some differences, such as lol being third here and not even on the top 30 list for positive comments."
      ]
    },
    {
      "cell_type": "code",
      "execution_count": null,
      "metadata": {
        "id": "-JbUVIJ_ly_V"
      },
      "outputs": [],
      "source": [
        "def comments_for_model(cleaned_tokens_list):\n",
        "    for comm_tokens in cleaned_tokens_list:\n",
        "        yield dict([token, True] for token in comm_tokens)\n",
        "\n",
        "positive_tokens_for_model = comments_for_model(pos_cleaned_tokens_list)\n",
        "negative_tokens_for_model = comments_for_model(neg_cleaned_tokens_list)"
      ]
    },
    {
      "cell_type": "code",
      "execution_count": null,
      "metadata": {
        "id": "KoPGfUgXl1rD"
      },
      "outputs": [],
      "source": [
        "import random\n",
        "positive_dataset = [(comm_dict, \"Positive\") for comm_dict in positive_tokens_for_model]\n",
        "negative_dataset = [(comm_dict, \"Negative\") for comm_dict in negative_tokens_for_model]\n",
        "dataset = positive_dataset + negative_dataset\n",
        "\n",
        "random.shuffle(dataset)\n",
        "\n",
        "train_data = dataset[:35000]\n",
        "test_data = dataset[35000:]"
      ]
    },
    {
      "cell_type": "markdown",
      "metadata": {
        "id": "xNzfbXnClNZ8"
      },
      "source": [
        "Creates a random test and training dataset from the data. About 70% of the data is used in the training set and 30% in the testing dataset."
      ]
    },
    {
      "cell_type": "code",
      "execution_count": null,
      "metadata": {
        "colab": {
          "base_uri": "https://localhost:8080/"
        },
        "id": "MHyS_o-nl5dS",
        "outputId": "4149fedf-9735-48eb-9abd-a77b0c69e6b3"
      },
      "outputs": [
        {
          "name": "stdout",
          "output_type": "stream",
          "text": [
            "Accuracy is: 0.5540295413319513\n",
            "Most Informative Features\n",
            "                     dad = True           Positi : Negati =     20.2 : 1.0\n",
            "                 arsenal = True           Negati : Positi =     18.3 : 1.0\n",
            "                downvote = True           Negati : Positi =     15.0 : 1.0\n",
            "                   space = True           Positi : Negati =     14.3 : 1.0\n",
            "                     dae = True           Negati : Positi =     13.8 : 1.0\n",
            "                     ben = True           Positi : Negati =     13.7 : 1.0\n",
            "                  amazon = True           Positi : Negati =      9.7 : 1.0\n",
            "               starbucks = True           Positi : Negati =      9.7 : 1.0\n",
            "                    pats = True           Negati : Positi =      9.3 : 1.0\n",
            "                      gg = True           Negati : Positi =      9.0 : 1.0\n",
            "None\n"
          ]
        }
      ],
      "source": [
        "#https://www.nltk.org/_modules/nltk/classify/naivebayes.html\n",
        "from nltk import classify\n",
        "from nltk import NaiveBayesClassifier\n",
        "classifier = NaiveBayesClassifier.train(train_data)\n",
        "\n",
        "print(\"Accuracy is:\", classify.accuracy(classifier, test_data))\n",
        "\n",
        "print(classifier.show_most_informative_features(10))"
      ]
    },
    {
      "cell_type": "markdown",
      "metadata": {
        "id": "HgKJMRrokBqt"
      },
      "source": [
        "While the Naive Bayes Classifer isn't amazingly accurate, with an accuracy of .55, it is still slightly more accurate then a coinflip meaning that there are at least some features that help it guess. Some of the best features are shown, with some making more sense then others. Interesting this suggests amazon and starbucks are in more postivly voted comments, however this doesn't always mean that the companies themselves are viewed positivly, as a lot of the time comments speaking negativly of a comapany will still be upvoted."
      ]
    },
    {
      "cell_type": "code",
      "execution_count": null,
      "metadata": {
        "colab": {
          "base_uri": "https://localhost:8080/",
          "height": 206
        },
        "id": "LuBwl_AotQ-P",
        "outputId": "a664977a-cc25-4e4c-f76a-a8a31419b658"
      },
      "outputs": [
        {
          "data": {
            "text/html": [
              "<div>\n",
              "<style scoped>\n",
              "    .dataframe tbody tr th:only-of-type {\n",
              "        vertical-align: middle;\n",
              "    }\n",
              "\n",
              "    .dataframe tbody tr th {\n",
              "        vertical-align: top;\n",
              "    }\n",
              "\n",
              "    .dataframe thead th {\n",
              "        text-align: right;\n",
              "    }\n",
              "</style>\n",
              "<table border=\"1\" class=\"dataframe\">\n",
              "  <thead>\n",
              "    <tr style=\"text-align: right;\">\n",
              "      <th></th>\n",
              "      <th>body</th>\n",
              "    </tr>\n",
              "  </thead>\n",
              "  <tbody>\n",
              "    <tr>\n",
              "      <th>50322924</th>\n",
              "      <td>the kind of abuse of power i can get used to</td>\n",
              "    </tr>\n",
              "    <tr>\n",
              "      <th>49103652</th>\n",
              "      <td>this is just crazy, he really wants his 2k rat...</td>\n",
              "    </tr>\n",
              "    <tr>\n",
              "      <th>6171234</th>\n",
              "      <td>It's true :(</td>\n",
              "    </tr>\n",
              "    <tr>\n",
              "      <th>28519255</th>\n",
              "      <td>I have always appreciated his philosophy. Over...</td>\n",
              "    </tr>\n",
              "    <tr>\n",
              "      <th>26635877</th>\n",
              "      <td>Having sex with a tranquilized mattress. CONTR...</td>\n",
              "    </tr>\n",
              "  </tbody>\n",
              "</table>\n",
              "</div>"
            ],
            "text/plain": [
              "                                                       body\n",
              "50322924       the kind of abuse of power i can get used to\n",
              "49103652  this is just crazy, he really wants his 2k rat...\n",
              "6171234                                        It's true :(\n",
              "28519255  I have always appreciated his philosophy. Over...\n",
              "26635877  Having sex with a tranquilized mattress. CONTR..."
            ]
          },
          "execution_count": 34,
          "metadata": {},
          "output_type": "execute_result"
        }
      ],
      "source": [
        "frames = [df_positive_scores, df_negative_scores]\n",
        "dfr = pd.concat(frames)\n",
        "mydata = dfr.drop(['score'], axis=1)\n",
        "mydata.head()"
      ]
    },
    {
      "cell_type": "markdown",
      "metadata": {
        "id": "JRUV6cCg6cx5"
      },
      "source": [
        "Creating a dataframe that consist of 50,000 comments compared to 50 million. Although there is less data to train, the prediction results were similar."
      ]
    },
    {
      "cell_type": "code",
      "execution_count": null,
      "metadata": {
        "colab": {
          "base_uri": "https://localhost:8080/",
          "height": 206
        },
        "id": "Yvh8cC5uE1Gv",
        "outputId": "a9259092-6c3b-466b-f366-fdecf16f0471"
      },
      "outputs": [
        {
          "data": {
            "text/html": [
              "<div>\n",
              "<style scoped>\n",
              "    .dataframe tbody tr th:only-of-type {\n",
              "        vertical-align: middle;\n",
              "    }\n",
              "\n",
              "    .dataframe tbody tr th {\n",
              "        vertical-align: top;\n",
              "    }\n",
              "\n",
              "    .dataframe thead th {\n",
              "        text-align: right;\n",
              "    }\n",
              "</style>\n",
              "<table border=\"1\" class=\"dataframe\">\n",
              "  <thead>\n",
              "    <tr style=\"text-align: right;\">\n",
              "      <th></th>\n",
              "      <th>body</th>\n",
              "      <th>Cleaned</th>\n",
              "    </tr>\n",
              "  </thead>\n",
              "  <tbody>\n",
              "    <tr>\n",
              "      <th>50322924</th>\n",
              "      <td>the kind of abuse of power i can get used to</td>\n",
              "      <td>the kind of abuse of power i can get used to</td>\n",
              "    </tr>\n",
              "    <tr>\n",
              "      <th>49103652</th>\n",
              "      <td>this is just crazy, he really wants his 2k rat...</td>\n",
              "      <td>this is just crazy he really wants his k ratin...</td>\n",
              "    </tr>\n",
              "    <tr>\n",
              "      <th>6171234</th>\n",
              "      <td>It's true :(</td>\n",
              "      <td>It s true</td>\n",
              "    </tr>\n",
              "    <tr>\n",
              "      <th>28519255</th>\n",
              "      <td>I have always appreciated his philosophy. Over...</td>\n",
              "      <td>I have always appreciated his philosophy Over ...</td>\n",
              "    </tr>\n",
              "    <tr>\n",
              "      <th>26635877</th>\n",
              "      <td>Having sex with a tranquilized mattress. CONTR...</td>\n",
              "      <td>Having sex with a tranquilized mattress CONTRI...</td>\n",
              "    </tr>\n",
              "  </tbody>\n",
              "</table>\n",
              "</div>"
            ],
            "text/plain": [
              "                                                       body                                            Cleaned\n",
              "50322924       the kind of abuse of power i can get used to       the kind of abuse of power i can get used to\n",
              "49103652  this is just crazy, he really wants his 2k rat...  this is just crazy he really wants his k ratin...\n",
              "6171234                                        It's true :(                                         It s true \n",
              "28519255  I have always appreciated his philosophy. Over...  I have always appreciated his philosophy Over ...\n",
              "26635877  Having sex with a tranquilized mattress. CONTR...  Having sex with a tranquilized mattress CONTRI..."
            ]
          },
          "execution_count": 35,
          "metadata": {},
          "output_type": "execute_result"
        }
      ],
      "source": [
        "# Define a function to clean the text\n",
        "def clean(text):\n",
        "# Removes all special characters and numericals leaving the alphabets\n",
        "    text = re.sub('[^A-Za-z]+', ' ', str(text))\n",
        "    return text\n",
        "# Cleaning the text in the review column\n",
        "mydata['Cleaned'] = mydata['body'].apply(clean)\n",
        "mydata.head()"
      ]
    },
    {
      "cell_type": "markdown",
      "metadata": {
        "id": "DNKy5hiF6xeB"
      },
      "source": [
        "Preparing the data for tokenization. Removing uneccessary characters."
      ]
    },
    {
      "cell_type": "code",
      "execution_count": null,
      "metadata": {
        "colab": {
          "base_uri": "https://localhost:8080/"
        },
        "id": "Xt0Mh6nNE3th",
        "outputId": "fa9fc231-30c5-4266-c903-743af8b8fa4c"
      },
      "outputs": [
        {
          "name": "stdout",
          "output_type": "stream",
          "text": [
            "[nltk_data] Downloading package stopwords to /root/nltk_data...\n",
            "[nltk_data]   Package stopwords is already up-to-date!\n",
            "[nltk_data] Downloading package wordnet to /root/nltk_data...\n",
            "[nltk_data]   Package wordnet is already up-to-date!\n"
          ]
        }
      ],
      "source": [
        "from nltk import pos_tag\n",
        "nltk.download('stopwords')\n",
        "from nltk.corpus import stopwords\n",
        "nltk.download('wordnet')\n",
        "from nltk.corpus import wordnet\n",
        "\n",
        "# POS tagger dictionary\n",
        "pos_dict = {'J':wordnet.ADJ, 'V':wordnet.VERB, 'N':wordnet.NOUN, 'R':wordnet.ADV}\n",
        "def token_stop_pos(text):\n",
        "    tags = pos_tag(word_tokenize(text)) \n",
        "    newlist = []\n",
        "    for word, tag in tags:\n",
        "        if word.lower() not in set(stopwords.words('english')):\n",
        "          newlist.append(tuple([word, pos_dict.get(tag[0])]))\n",
        "    return newlist\n",
        "\n",
        "mydata['POS tagged'] = mydata['Cleaned'].apply(token_stop_pos)"
      ]
    },
    {
      "cell_type": "markdown",
      "metadata": {
        "id": "OllGmIPPA5k9"
      },
      "source": [
        "With this function, we add tags to each of the words to give it different sentimental value. "
      ]
    },
    {
      "cell_type": "code",
      "execution_count": null,
      "metadata": {
        "colab": {
          "base_uri": "https://localhost:8080/",
          "height": 206
        },
        "id": "gs_gi1leE5ec",
        "outputId": "3b8cf070-efc2-40c2-c3d4-46f6b2f9f30b"
      },
      "outputs": [
        {
          "data": {
            "text/html": [
              "<div>\n",
              "<style scoped>\n",
              "    .dataframe tbody tr th:only-of-type {\n",
              "        vertical-align: middle;\n",
              "    }\n",
              "\n",
              "    .dataframe tbody tr th {\n",
              "        vertical-align: top;\n",
              "    }\n",
              "\n",
              "    .dataframe thead th {\n",
              "        text-align: right;\n",
              "    }\n",
              "</style>\n",
              "<table border=\"1\" class=\"dataframe\">\n",
              "  <thead>\n",
              "    <tr style=\"text-align: right;\">\n",
              "      <th></th>\n",
              "      <th>body</th>\n",
              "      <th>Cleaned</th>\n",
              "      <th>POS tagged</th>\n",
              "      <th>Lemma</th>\n",
              "    </tr>\n",
              "  </thead>\n",
              "  <tbody>\n",
              "    <tr>\n",
              "      <th>50322924</th>\n",
              "      <td>the kind of abuse of power i can get used to</td>\n",
              "      <td>the kind of abuse of power i can get used to</td>\n",
              "      <td>[(kind, n), (abuse, n), (power, n), (get, v), ...</td>\n",
              "      <td>kind abuse power get use</td>\n",
              "    </tr>\n",
              "    <tr>\n",
              "      <th>49103652</th>\n",
              "      <td>this is just crazy, he really wants his 2k rat...</td>\n",
              "      <td>this is just crazy he really wants his k ratin...</td>\n",
              "      <td>[(crazy, a), (really, r), (wants, v), (k, n), ...</td>\n",
              "      <td>crazy really want k rating go</td>\n",
              "    </tr>\n",
              "    <tr>\n",
              "      <th>6171234</th>\n",
              "      <td>It's true :(</td>\n",
              "      <td>It s true</td>\n",
              "      <td>[(true, a)]</td>\n",
              "      <td>true</td>\n",
              "    </tr>\n",
              "    <tr>\n",
              "      <th>28519255</th>\n",
              "      <td>I have always appreciated his philosophy. Over...</td>\n",
              "      <td>I have always appreciated his philosophy Over ...</td>\n",
              "      <td>[(always, r), (appreciated, v), (philosophy, n...</td>\n",
              "      <td>always appreciate philosophy year make point...</td>\n",
              "    </tr>\n",
              "    <tr>\n",
              "      <th>26635877</th>\n",
              "      <td>Having sex with a tranquilized mattress. CONTR...</td>\n",
              "      <td>Having sex with a tranquilized mattress CONTRI...</td>\n",
              "      <td>[(sex, n), (tranquilized, a), (mattress, n), (...</td>\n",
              "      <td>sex tranquilized mattress CONTRIBUTE woman l...</td>\n",
              "    </tr>\n",
              "  </tbody>\n",
              "</table>\n",
              "</div>"
            ],
            "text/plain": [
              "                                                       body  ...                                              Lemma\n",
              "50322924       the kind of abuse of power i can get used to  ...                           kind abuse power get use\n",
              "49103652  this is just crazy, he really wants his 2k rat...  ...                      crazy really want k rating go\n",
              "6171234                                        It's true :(  ...                                               true\n",
              "28519255  I have always appreciated his philosophy. Over...  ...    always appreciate philosophy year make point...\n",
              "26635877  Having sex with a tranquilized mattress. CONTR...  ...    sex tranquilized mattress CONTRIBUTE woman l...\n",
              "\n",
              "[5 rows x 4 columns]"
            ]
          },
          "execution_count": 52,
          "metadata": {},
          "output_type": "execute_result"
        }
      ],
      "source": [
        "from nltk.stem import WordNetLemmatizer\n",
        "wordnet_lemmatizer = WordNetLemmatizer()\n",
        "def lemmatize(pos_data):\n",
        "    lemma_rew = \" \"\n",
        "    for word, pos in pos_data:\n",
        "      if not pos:\n",
        "          lemma = word\n",
        "          lemma_rew = lemma_rew + \" \" + lemma\n",
        "      else:\n",
        "          lemma = wordnet_lemmatizer.lemmatize(word, pos=pos)\n",
        "          lemma_rew = lemma_rew + \" \" + lemma\n",
        "    return lemma_rew\n",
        "\n",
        "mydata['Lemma'] = mydata['POS tagged'].apply(lemmatize)\n",
        "mydata.head()"
      ]
    },
    {
      "cell_type": "markdown",
      "metadata": {
        "id": "iNpgMcBWCMSh"
      },
      "source": [
        "The lemmentization process getting the definition word of the root. the POS tag helps in this process by getting the correct definition."
      ]
    },
    {
      "cell_type": "code",
      "execution_count": null,
      "metadata": {
        "id": "ZTB0woI9E7Cv"
      },
      "outputs": [],
      "source": [
        "from textblob import TextBlob\n",
        "# function to calculate subjectivity\n",
        "def getSubjectivity(review):\n",
        "    return TextBlob(review).sentiment.subjectivity\n",
        "    # function to calculate polarity\n",
        "def getPolarity(review):\n",
        "     return TextBlob(review).sentiment.polarity\n",
        "\n",
        "# function to analyze the reviews\n",
        "def analysis(score):\n",
        "    if score < 0:\n",
        "        return 'Negative'\n",
        "    elif score == 0:\n",
        "        return 'Neutral'\n",
        "    else:\n",
        "        return 'Positive'"
      ]
    },
    {
      "cell_type": "markdown",
      "metadata": {
        "id": "4vPk2aCHCK1r"
      },
      "source": [
        "Goes through the lemmentized words and uses the textblob library to use the built in sentiment analysis using subjectivity and polarity."
      ]
    },
    {
      "cell_type": "code",
      "execution_count": null,
      "metadata": {
        "colab": {
          "base_uri": "https://localhost:8080/",
          "height": 206
        },
        "id": "HlVfUJ0XE-si",
        "outputId": "ab118b94-e0b6-4265-824c-a41ef5b0a23c"
      },
      "outputs": [
        {
          "data": {
            "text/html": [
              "<div>\n",
              "<style scoped>\n",
              "    .dataframe tbody tr th:only-of-type {\n",
              "        vertical-align: middle;\n",
              "    }\n",
              "\n",
              "    .dataframe tbody tr th {\n",
              "        vertical-align: top;\n",
              "    }\n",
              "\n",
              "    .dataframe thead th {\n",
              "        text-align: right;\n",
              "    }\n",
              "</style>\n",
              "<table border=\"1\" class=\"dataframe\">\n",
              "  <thead>\n",
              "    <tr style=\"text-align: right;\">\n",
              "      <th></th>\n",
              "      <th>body</th>\n",
              "      <th>POS tagged</th>\n",
              "      <th>Lemma</th>\n",
              "      <th>Polarity</th>\n",
              "      <th>Analysis</th>\n",
              "    </tr>\n",
              "  </thead>\n",
              "  <tbody>\n",
              "    <tr>\n",
              "      <th>50322924</th>\n",
              "      <td>the kind of abuse of power i can get used to</td>\n",
              "      <td>[(kind, n), (abuse, n), (power, n), (get, v), ...</td>\n",
              "      <td>kind abuse power get use</td>\n",
              "      <td>0.600000</td>\n",
              "      <td>Positive</td>\n",
              "    </tr>\n",
              "    <tr>\n",
              "      <th>49103652</th>\n",
              "      <td>this is just crazy, he really wants his 2k rat...</td>\n",
              "      <td>[(crazy, a), (really, r), (wants, v), (k, n), ...</td>\n",
              "      <td>crazy really want k rating go</td>\n",
              "      <td>-0.200000</td>\n",
              "      <td>Negative</td>\n",
              "    </tr>\n",
              "    <tr>\n",
              "      <th>6171234</th>\n",
              "      <td>It's true :(</td>\n",
              "      <td>[(true, a)]</td>\n",
              "      <td>true</td>\n",
              "      <td>0.350000</td>\n",
              "      <td>Positive</td>\n",
              "    </tr>\n",
              "    <tr>\n",
              "      <th>28519255</th>\n",
              "      <td>I have always appreciated his philosophy. Over...</td>\n",
              "      <td>[(always, r), (appreciated, v), (philosophy, n...</td>\n",
              "      <td>always appreciate philosophy year make point...</td>\n",
              "      <td>0.136364</td>\n",
              "      <td>Positive</td>\n",
              "    </tr>\n",
              "    <tr>\n",
              "      <th>26635877</th>\n",
              "      <td>Having sex with a tranquilized mattress. CONTR...</td>\n",
              "      <td>[(sex, n), (tranquilized, a), (mattress, n), (...</td>\n",
              "      <td>sex tranquilized mattress CONTRIBUTE woman l...</td>\n",
              "      <td>-0.300000</td>\n",
              "      <td>Negative</td>\n",
              "    </tr>\n",
              "  </tbody>\n",
              "</table>\n",
              "</div>"
            ],
            "text/plain": [
              "                                                       body  ...  Analysis\n",
              "50322924       the kind of abuse of power i can get used to  ...  Positive\n",
              "49103652  this is just crazy, he really wants his 2k rat...  ...  Negative\n",
              "6171234                                        It's true :(  ...  Positive\n",
              "28519255  I have always appreciated his philosophy. Over...  ...  Positive\n",
              "26635877  Having sex with a tranquilized mattress. CONTR...  ...  Negative\n",
              "\n",
              "[5 rows x 5 columns]"
            ]
          },
          "execution_count": 54,
          "metadata": {},
          "output_type": "execute_result"
        }
      ],
      "source": [
        "fin_data = pd.DataFrame(mydata[['body', 'POS tagged', 'Lemma']])\n",
        "fin_data['Polarity'] = fin_data['Lemma'].apply(getPolarity) \n",
        "fin_data['Analysis'] = fin_data['Polarity'].apply(analysis)\n",
        "fin_data.head()"
      ]
    },
    {
      "cell_type": "code",
      "execution_count": null,
      "metadata": {
        "colab": {
          "base_uri": "https://localhost:8080/"
        },
        "id": "mZm3cwJYFA0L",
        "outputId": "133b191a-286e-4107-aade-365f4efb018f"
      },
      "outputs": [
        {
          "data": {
            "text/plain": [
              "Positive    20754\n",
              "Neutral     15387\n",
              "Negative    14295\n",
              "Name: Analysis, dtype: int64"
            ]
          },
          "execution_count": 55,
          "metadata": {},
          "output_type": "execute_result"
        }
      ],
      "source": [
        "counts = fin_data.Analysis.value_counts()\n",
        "counts"
      ]
    },
    {
      "cell_type": "code",
      "source": [
        "pos_data = df_positive_scores.drop(['score'], axis=1)\n",
        "pos_data['Cleaned'] = pos_data['body'].apply(clean)\n",
        "pos_data['POS tagged'] = pos_data['Cleaned'].apply(token_stop_pos)\n",
        "pos_data['Lemma'] = pos_data['POS tagged'].apply(lemmatize)\n",
        "fin_pos_data = pd.DataFrame(pos_data[['body', 'POS tagged', 'Lemma']])\n",
        "fin_pos_data['Polarity'] = fin_pos_data['Lemma'].apply(getPolarity) \n",
        "fin_pos_data['Analysis'] = fin_pos_data['Polarity'].apply(analysis)\n",
        "fin_pos_data.head()"
      ],
      "metadata": {
        "colab": {
          "base_uri": "https://localhost:8080/",
          "height": 206
        },
        "id": "YwxkEIslCUOv",
        "outputId": "45694638-346c-45d4-849b-5736b316ecfa"
      },
      "execution_count": null,
      "outputs": [
        {
          "output_type": "execute_result",
          "data": {
            "text/html": [
              "<div>\n",
              "<style scoped>\n",
              "    .dataframe tbody tr th:only-of-type {\n",
              "        vertical-align: middle;\n",
              "    }\n",
              "\n",
              "    .dataframe tbody tr th {\n",
              "        vertical-align: top;\n",
              "    }\n",
              "\n",
              "    .dataframe thead th {\n",
              "        text-align: right;\n",
              "    }\n",
              "</style>\n",
              "<table border=\"1\" class=\"dataframe\">\n",
              "  <thead>\n",
              "    <tr style=\"text-align: right;\">\n",
              "      <th></th>\n",
              "      <th>body</th>\n",
              "      <th>POS tagged</th>\n",
              "      <th>Lemma</th>\n",
              "      <th>Polarity</th>\n",
              "      <th>Analysis</th>\n",
              "    </tr>\n",
              "  </thead>\n",
              "  <tbody>\n",
              "    <tr>\n",
              "      <th>50322924</th>\n",
              "      <td>the kind of abuse of power i can get used to</td>\n",
              "      <td>[(kind, n), (abuse, n), (power, n), (get, v), ...</td>\n",
              "      <td>kind abuse power get use</td>\n",
              "      <td>0.600000</td>\n",
              "      <td>Positive</td>\n",
              "    </tr>\n",
              "    <tr>\n",
              "      <th>49103652</th>\n",
              "      <td>this is just crazy, he really wants his 2k rat...</td>\n",
              "      <td>[(crazy, a), (really, r), (wants, v), (k, n), ...</td>\n",
              "      <td>crazy really want k rating go</td>\n",
              "      <td>-0.200000</td>\n",
              "      <td>Negative</td>\n",
              "    </tr>\n",
              "    <tr>\n",
              "      <th>6171234</th>\n",
              "      <td>It's true :(</td>\n",
              "      <td>[(true, a)]</td>\n",
              "      <td>true</td>\n",
              "      <td>0.350000</td>\n",
              "      <td>Positive</td>\n",
              "    </tr>\n",
              "    <tr>\n",
              "      <th>28519255</th>\n",
              "      <td>I have always appreciated his philosophy. Over...</td>\n",
              "      <td>[(always, r), (appreciated, v), (philosophy, n...</td>\n",
              "      <td>always appreciate philosophy year make point...</td>\n",
              "      <td>0.136364</td>\n",
              "      <td>Positive</td>\n",
              "    </tr>\n",
              "    <tr>\n",
              "      <th>26635877</th>\n",
              "      <td>Having sex with a tranquilized mattress. CONTR...</td>\n",
              "      <td>[(sex, n), (tranquilized, a), (mattress, n), (...</td>\n",
              "      <td>sex tranquilized mattress CONTRIBUTE woman l...</td>\n",
              "      <td>-0.300000</td>\n",
              "      <td>Negative</td>\n",
              "    </tr>\n",
              "  </tbody>\n",
              "</table>\n",
              "</div>"
            ],
            "text/plain": [
              "                                                       body  ...  Analysis\n",
              "50322924       the kind of abuse of power i can get used to  ...  Positive\n",
              "49103652  this is just crazy, he really wants his 2k rat...  ...  Negative\n",
              "6171234                                        It's true :(  ...  Positive\n",
              "28519255  I have always appreciated his philosophy. Over...  ...  Positive\n",
              "26635877  Having sex with a tranquilized mattress. CONTR...  ...  Negative\n",
              "\n",
              "[5 rows x 5 columns]"
            ]
          },
          "metadata": {},
          "execution_count": 38
        }
      ]
    },
    {
      "cell_type": "code",
      "source": [
        "neg_data = df_negative_scores.drop(['score'], axis=1)\n",
        "neg_data['Cleaned'] = neg_data['body'].apply(clean)\n",
        "neg_data['POS tagged'] = neg_data['Cleaned'].apply(token_stop_pos)\n",
        "neg_data['Lemma'] = neg_data['POS tagged'].apply(lemmatize)\n",
        "fin_neg_data = pd.DataFrame(neg_data[['body', 'POS tagged', 'Lemma']])\n",
        "fin_neg_data['Polarity'] = fin_neg_data['Lemma'].apply(getPolarity) \n",
        "fin_neg_data['Analysis'] = fin_neg_data['Polarity'].apply(analysis)\n",
        "fin_neg_data.head()"
      ],
      "metadata": {
        "colab": {
          "base_uri": "https://localhost:8080/",
          "height": 206
        },
        "id": "zP6D_m33DsRy",
        "outputId": "7d87a6fc-6702-462a-db5f-603234cca75a"
      },
      "execution_count": null,
      "outputs": [
        {
          "output_type": "execute_result",
          "data": {
            "text/html": [
              "<div>\n",
              "<style scoped>\n",
              "    .dataframe tbody tr th:only-of-type {\n",
              "        vertical-align: middle;\n",
              "    }\n",
              "\n",
              "    .dataframe tbody tr th {\n",
              "        vertical-align: top;\n",
              "    }\n",
              "\n",
              "    .dataframe thead th {\n",
              "        text-align: right;\n",
              "    }\n",
              "</style>\n",
              "<table border=\"1\" class=\"dataframe\">\n",
              "  <thead>\n",
              "    <tr style=\"text-align: right;\">\n",
              "      <th></th>\n",
              "      <th>body</th>\n",
              "      <th>POS tagged</th>\n",
              "      <th>Lemma</th>\n",
              "      <th>Polarity</th>\n",
              "      <th>Analysis</th>\n",
              "    </tr>\n",
              "  </thead>\n",
              "  <tbody>\n",
              "    <tr>\n",
              "      <th>27681259</th>\n",
              "      <td>Oh, bitch please. You've been threatening to l...</td>\n",
              "      <td>[(Oh, None), (bitch, n), (please, n), (threate...</td>\n",
              "      <td>Oh bitch please threaten leave us month leav...</td>\n",
              "      <td>0.000000</td>\n",
              "      <td>Neutral</td>\n",
              "    </tr>\n",
              "    <tr>\n",
              "      <th>32412658</th>\n",
              "      <td>You hush with your facts, these things only wo...</td>\n",
              "      <td>[(hush, v), (facts, n), (things, n), (work, v)...</td>\n",
              "      <td>hush fact thing work cherry pick data</td>\n",
              "      <td>0.000000</td>\n",
              "      <td>Neutral</td>\n",
              "    </tr>\n",
              "    <tr>\n",
              "      <th>18890275</th>\n",
              "      <td>Hi Carlos, I'm a die hard Datsun/Nissan fan th...</td>\n",
              "      <td>[(Hi, n), (Carlos, n), (die, a), (hard, a), (D...</td>\n",
              "      <td>Hi Carlos die hard Datsun Nissan fan glad se...</td>\n",
              "      <td>0.221667</td>\n",
              "      <td>Positive</td>\n",
              "    </tr>\n",
              "    <tr>\n",
              "      <th>18858922</th>\n",
              "      <td>What was your first car?</td>\n",
              "      <td>[(first, a), (car, n)]</td>\n",
              "      <td>first car</td>\n",
              "      <td>0.250000</td>\n",
              "      <td>Positive</td>\n",
              "    </tr>\n",
              "    <tr>\n",
              "      <th>49355643</th>\n",
              "      <td>I appreciate the effort you put into this, but...</td>\n",
              "      <td>[(appreciate, v), (effort, n), (put, v), (know...</td>\n",
              "      <td>appreciate effort put know post album like c...</td>\n",
              "      <td>-0.300000</td>\n",
              "      <td>Negative</td>\n",
              "    </tr>\n",
              "  </tbody>\n",
              "</table>\n",
              "</div>"
            ],
            "text/plain": [
              "                                                       body  ...  Analysis\n",
              "27681259  Oh, bitch please. You've been threatening to l...  ...   Neutral\n",
              "32412658  You hush with your facts, these things only wo...  ...   Neutral\n",
              "18890275  Hi Carlos, I'm a die hard Datsun/Nissan fan th...  ...  Positive\n",
              "18858922                           What was your first car?  ...  Positive\n",
              "49355643  I appreciate the effort you put into this, but...  ...  Negative\n",
              "\n",
              "[5 rows x 5 columns]"
            ]
          },
          "metadata": {},
          "execution_count": 39
        }
      ]
    },
    {
      "cell_type": "code",
      "source": [
        "counts = fin_pos_data.Analysis.value_counts()\n",
        "counts"
      ],
      "metadata": {
        "colab": {
          "base_uri": "https://localhost:8080/"
        },
        "id": "FsdbxAE7EBY_",
        "outputId": "6494aa41-b4a8-49d7-cbca-63e6cd7c3f86"
      },
      "execution_count": null,
      "outputs": [
        {
          "output_type": "execute_result",
          "data": {
            "text/plain": [
              "Positive    10582\n",
              "Neutral      8557\n",
              "Negative     6079\n",
              "Name: Analysis, dtype: int64"
            ]
          },
          "metadata": {},
          "execution_count": 40
        }
      ]
    },
    {
      "cell_type": "code",
      "source": [
        "counts = fin_neg_data.Analysis.value_counts()\n",
        "counts"
      ],
      "metadata": {
        "colab": {
          "base_uri": "https://localhost:8080/"
        },
        "id": "LibN7QxuEB43",
        "outputId": "f95e0656-2948-44cf-a701-a306fc1bbfee"
      },
      "execution_count": null,
      "outputs": [
        {
          "output_type": "execute_result",
          "data": {
            "text/plain": [
              "Positive    10172\n",
              "Negative     8216\n",
              "Neutral      6830\n",
              "Name: Analysis, dtype: int64"
            ]
          },
          "metadata": {},
          "execution_count": 41
        }
      ]
    },
    {
      "cell_type": "markdown",
      "source": [
        "Performs sentiment anaysis on the individual positive and negative dataset. It can be seen that the ratio of positive/negative/neutral is pretty similar for both, suggesting the sentiment of the comment doesn't signal a postive or negativly upvoted comment"
      ],
      "metadata": {
        "id": "g3cw-DiPIdSj"
      }
    },
    {
      "cell_type": "code",
      "execution_count": null,
      "metadata": {
        "id": "_TNEbE_6FCz-"
      },
      "outputs": [],
      "source": [
        "#https://blog.devgenius.io/training-an-ml-model-for-sentiment-analysis-in-python-63b6b8c68792\n",
        "from spacy.lang.en.stop_words import STOP_WORDS\n",
        "from spacy.lang.en import English\n",
        "import string\n",
        "punctuations = string.punctuation\n",
        "parser = English()\n",
        "stopwords = list(STOP_WORDS)\n",
        "def spacy_tokenizer(utterance):\n",
        "      tokens = parser(utterance)\n",
        "      return [token.lemma_.lower().strip() for token in tokens if token.text.lower().strip() not in stopwords and token.text not in punctuations]\n"
      ]
    },
    {
      "cell_type": "code",
      "execution_count": null,
      "metadata": {
        "id": "RFE7PrbFg_Sn"
      },
      "outputs": [],
      "source": [
        "from sklearn.model_selection import train_test_split\n",
        "comments = fin_data['Lemma'].values\n",
        "labels = fin_data['Analysis'].values\n",
        "comments_train, comments_test, y_train, y_test = train_test_split(comments, labels, test_size=0.2, random_state=50436)"
      ]
    },
    {
      "cell_type": "markdown",
      "metadata": {
        "id": "t8mQ1KDeG3LH"
      },
      "source": [
        "Using the lemma and analysis to train the data. The analysis will have positive, neutral or negative for teaching the model."
      ]
    },
    {
      "cell_type": "code",
      "execution_count": null,
      "metadata": {
        "colab": {
          "base_uri": "https://localhost:8080/"
        },
        "id": "fzi6X7eTFEkg",
        "outputId": "740f7220-2599-432c-c533-6c2c64d00560"
      },
      "outputs": [
        {
          "data": {
            "text/plain": [
              "CountVectorizer(tokenizer=<function spacy_tokenizer at 0x7ff5cc92a680>)"
            ]
          },
          "execution_count": 58,
          "metadata": {},
          "output_type": "execute_result"
        }
      ],
      "source": [
        "from sklearn.feature_extraction.text import CountVectorizer\n",
        "vectorizer = CountVectorizer(tokenizer = spacy_tokenizer, ngram_range=(1,1))\n",
        "vectorizer.fit(comments_train)"
      ]
    },
    {
      "cell_type": "code",
      "execution_count": null,
      "metadata": {
        "id": "hWYFatAWFFVi"
      },
      "outputs": [],
      "source": [
        "X_train = vectorizer.transform(comments_train)\n",
        "X_test = vectorizer.transform(comments_test)"
      ]
    },
    {
      "cell_type": "code",
      "execution_count": null,
      "metadata": {
        "colab": {
          "base_uri": "https://localhost:8080/"
        },
        "id": "E8BTlqYsFF_p",
        "outputId": "939a19df-c548-4831-8391-58528107ca98"
      },
      "outputs": [
        {
          "data": {
            "text/plain": [
              "LogisticRegression()"
            ]
          },
          "execution_count": 60,
          "metadata": {},
          "output_type": "execute_result"
        }
      ],
      "source": [
        "from sklearn.linear_model import LogisticRegression\n",
        "classifier = LogisticRegression()\n",
        "classifier.fit(X_train, y_train)"
      ]
    },
    {
      "cell_type": "code",
      "execution_count": null,
      "metadata": {
        "colab": {
          "base_uri": "https://localhost:8080/"
        },
        "id": "p9K2avp8FG1q",
        "outputId": "d1f1d703-7fcd-49ed-9b80-cf2f34ed87a4"
      },
      "outputs": [
        {
          "name": "stdout",
          "output_type": "stream",
          "text": [
            "Accuracy:  0.893735130848533\n"
          ]
        }
      ],
      "source": [
        "accuracy = classifier.score(X_test, y_test)\n",
        "print(\"Accuracy: \", accuracy)"
      ]
    },
    {
      "cell_type": "markdown",
      "metadata": {
        "id": "ztHm2XlaJ8eQ"
      },
      "source": [
        "The logistic regression classifier is used here beacuse of the values of the target values are categorical, and binary, where the positive and negative are 0 or a 1. The accuracy here is good at 89% in predicting reviews sentiments."
      ]
    },
    {
      "cell_type": "code",
      "source": [
        "df_positive_scores['scores'] = 'pos'\n",
        "df_negative_scores['scores'] = 'neg'\n",
        "frames = [df_positive_scores, df_negative_scores]\n",
        "dfrs = pd.concat(frames)\n",
        "scoredata = dfrs.drop(['body'], axis=1)\n",
        "scoredata = dfrs.drop(['score'], axis=1)\n",
        "fin_data = pd.concat([fin_data,scoredata], axis=1)"
      ],
      "metadata": {
        "id": "p_4aKe6hPCtX"
      },
      "execution_count": null,
      "outputs": []
    },
    {
      "cell_type": "code",
      "source": [
        "fin_data.head()"
      ],
      "metadata": {
        "colab": {
          "base_uri": "https://localhost:8080/",
          "height": 206
        },
        "id": "YVOcVz5yq6Jo",
        "outputId": "e9210c7a-16b5-4588-f65d-350be889b6e2"
      },
      "execution_count": null,
      "outputs": [
        {
          "output_type": "execute_result",
          "data": {
            "text/html": [
              "<div>\n",
              "<style scoped>\n",
              "    .dataframe tbody tr th:only-of-type {\n",
              "        vertical-align: middle;\n",
              "    }\n",
              "\n",
              "    .dataframe tbody tr th {\n",
              "        vertical-align: top;\n",
              "    }\n",
              "\n",
              "    .dataframe thead th {\n",
              "        text-align: right;\n",
              "    }\n",
              "</style>\n",
              "<table border=\"1\" class=\"dataframe\">\n",
              "  <thead>\n",
              "    <tr style=\"text-align: right;\">\n",
              "      <th></th>\n",
              "      <th>body</th>\n",
              "      <th>POS tagged</th>\n",
              "      <th>Lemma</th>\n",
              "      <th>Polarity</th>\n",
              "      <th>Analysis</th>\n",
              "      <th>scores</th>\n",
              "    </tr>\n",
              "  </thead>\n",
              "  <tbody>\n",
              "    <tr>\n",
              "      <th>50322924</th>\n",
              "      <td>the kind of abuse of power i can get used to</td>\n",
              "      <td>[(kind, n), (abuse, n), (power, n), (get, v), ...</td>\n",
              "      <td>kind abuse power get use</td>\n",
              "      <td>0.600000</td>\n",
              "      <td>Positive</td>\n",
              "      <td>pos</td>\n",
              "    </tr>\n",
              "    <tr>\n",
              "      <th>49103652</th>\n",
              "      <td>this is just crazy, he really wants his 2k rat...</td>\n",
              "      <td>[(crazy, a), (really, r), (wants, v), (k, n), ...</td>\n",
              "      <td>crazy really want k rating go</td>\n",
              "      <td>-0.200000</td>\n",
              "      <td>Negative</td>\n",
              "      <td>pos</td>\n",
              "    </tr>\n",
              "    <tr>\n",
              "      <th>6171234</th>\n",
              "      <td>It's true :(</td>\n",
              "      <td>[(true, a)]</td>\n",
              "      <td>true</td>\n",
              "      <td>0.350000</td>\n",
              "      <td>Positive</td>\n",
              "      <td>pos</td>\n",
              "    </tr>\n",
              "    <tr>\n",
              "      <th>28519255</th>\n",
              "      <td>I have always appreciated his philosophy. Over...</td>\n",
              "      <td>[(always, r), (appreciated, v), (philosophy, n...</td>\n",
              "      <td>always appreciate philosophy year make point...</td>\n",
              "      <td>0.136364</td>\n",
              "      <td>Positive</td>\n",
              "      <td>pos</td>\n",
              "    </tr>\n",
              "    <tr>\n",
              "      <th>26635877</th>\n",
              "      <td>Having sex with a tranquilized mattress. CONTR...</td>\n",
              "      <td>[(sex, n), (tranquilized, a), (mattress, n), (...</td>\n",
              "      <td>sex tranquilized mattress CONTRIBUTE woman l...</td>\n",
              "      <td>-0.300000</td>\n",
              "      <td>Negative</td>\n",
              "      <td>pos</td>\n",
              "    </tr>\n",
              "  </tbody>\n",
              "</table>\n",
              "</div>"
            ],
            "text/plain": [
              "                                                       body  ... scores\n",
              "50322924       the kind of abuse of power i can get used to  ...    pos\n",
              "49103652  this is just crazy, he really wants his 2k rat...  ...    pos\n",
              "6171234                                        It's true :(  ...    pos\n",
              "28519255  I have always appreciated his philosophy. Over...  ...    pos\n",
              "26635877  Having sex with a tranquilized mattress. CONTR...  ...    pos\n",
              "\n",
              "[5 rows x 6 columns]"
            ]
          },
          "metadata": {},
          "execution_count": 145
        }
      ]
    },
    {
      "cell_type": "code",
      "source": [
        "from sklearn.model_selection import train_test_split\n",
        "comments = fin_data['Lemma'].values\n",
        "labels = fin_data['scores'].values\n",
        "comments_train, comments_test, y_train, y_test = train_test_split(comments, labels, test_size=0.2, random_state=50436)"
      ],
      "metadata": {
        "id": "EAc_imvsTMkE"
      },
      "execution_count": null,
      "outputs": []
    },
    {
      "cell_type": "code",
      "execution_count": null,
      "metadata": {
        "id": "mMSvi6VTZqDr"
      },
      "outputs": [],
      "source": [
        "X_train = vectorizer.transform(comments_train)\n",
        "X_test = vectorizer.transform(comments_test)"
      ]
    },
    {
      "cell_type": "code",
      "source": [
        "vectorizer = CountVectorizer(tokenizer = spacy_tokenizer, ngram_range=(1,1))\n",
        "vectorizer.fit(comments_train)"
      ],
      "metadata": {
        "id": "Sqx5h2NmTWNm",
        "colab": {
          "base_uri": "https://localhost:8080/"
        },
        "outputId": "3f65553c-4898-40ef-a03e-c300b551c903"
      },
      "execution_count": null,
      "outputs": [
        {
          "output_type": "execute_result",
          "data": {
            "text/plain": [
              "CountVectorizer(tokenizer=<function spacy_tokenizer at 0x7f0d3dda1830>)"
            ]
          },
          "metadata": {},
          "execution_count": 65
        }
      ]
    },
    {
      "cell_type": "code",
      "source": [
        "voteclassifier = LogisticRegression()\n",
        "voteclassifier.fit(X_train, y_train)"
      ],
      "metadata": {
        "id": "K9x33necTXmn",
        "colab": {
          "base_uri": "https://localhost:8080/"
        },
        "outputId": "1d957da7-bd53-4a56-d4b9-8577fed8832b"
      },
      "execution_count": null,
      "outputs": [
        {
          "output_type": "execute_result",
          "data": {
            "text/plain": [
              "LogisticRegression()"
            ]
          },
          "metadata": {},
          "execution_count": 68
        }
      ]
    },
    {
      "cell_type": "code",
      "source": [
        "accuracy = voteclassifier.score(X_test, y_test)\n",
        "print(\"Accuracy: \", accuracy)"
      ],
      "metadata": {
        "id": "9zDs-sP7TZDj",
        "colab": {
          "base_uri": "https://localhost:8080/"
        },
        "outputId": "ef83d8ad-87e0-4828-c7ce-4dbe8d6ba2c9"
      },
      "execution_count": null,
      "outputs": [
        {
          "output_type": "stream",
          "name": "stdout",
          "text": [
            "Accuracy:  0.6887390959555908\n"
          ]
        }
      ]
    },
    {
      "cell_type": "markdown",
      "source": [
        "The same type of logistic regression used before but this time it checks if the given sentence is upvoted or downvoted based on the words used. It is more accurate than the naive bayes classifier seen before, with an accuracy of .68"
      ],
      "metadata": {
        "id": "RcRr0aPoaAHH"
      }
    },
    {
      "cell_type": "code",
      "source": [
        "testdata = fin_data[fin_data['body'].str.lower().str.contains(\"obama\")]\n",
        "posData = testdata[testdata['scores'].str.lower().str.contains(\"pos\")]\n",
        "negData = testdata[testdata['scores'].str.lower().str.contains(\"neg\")]\n",
        "\n",
        "print(\"Count of Upvoted Positive references: \", len(posData[posData['Analysis']=='Positive']), \"Downvoted Positive references: \", len(negData[negData['Analysis']=='Positive']))\n",
        "print(\"Count of Upvoted Neutral references: \", len(posData[posData['Analysis']=='Neutral']), \"Downvoted Neutral references: \", len(negData[negData['Analysis']=='Neutral']))\n",
        "print(\"Count of Upvoted Negative references: \", len(posData[posData['Analysis']=='Negative']), \"Downvoted Negative references: \", len(negData[negData['Analysis']=='Negative']))"
      ],
      "metadata": {
        "colab": {
          "base_uri": "https://localhost:8080/"
        },
        "outputId": "0858a895-59cf-47bc-fc96-892847d66c65",
        "id": "R7v1cBDtySD_"
      },
      "execution_count": null,
      "outputs": [
        {
          "output_type": "stream",
          "name": "stdout",
          "text": [
            "Count of Upvoted Positive references:  39 Downvoted Positive references:  36\n",
            "Count of Upvoted Neutral references:  13 Downvoted Neutral references:  12\n",
            "Count of Upvoted Negative references:  20 Downvoted Negative references:  37\n"
          ]
        }
      ]
    },
    {
      "cell_type": "code",
      "source": [
        "testdata = fin_data[fin_data['body'].str.lower().str.contains(\"amazon\")]\n",
        "posData = testdata[testdata['scores'].str.lower().str.contains(\"pos\")]\n",
        "negData = testdata[testdata['scores'].str.lower().str.contains(\"neg\")]\n",
        "\n",
        "print(\"Count of Upvoted Positive references: \", len(posData[posData['Analysis']=='Positive']), \"Downvoted Positive references: \", len(negData[negData['Analysis']=='Positive']))\n",
        "print(\"Count of Upvoted Neutral references: \", len(posData[posData['Analysis']=='Neutral']), \"Downvoted Neutral references: \", len(negData[negData['Analysis']=='Neutral']))\n",
        "print(\"Count of Upvoted Negative references: \", len(posData[posData['Analysis']=='Negative']), \"Downvoted Negative references: \", len(negData[negData['Analysis']=='Negative']))"
      ],
      "metadata": {
        "colab": {
          "base_uri": "https://localhost:8080/"
        },
        "outputId": "d2b125f0-4631-4ce8-8b0a-7db455cb7ae3",
        "id": "OXeHz31uySEA"
      },
      "execution_count": null,
      "outputs": [
        {
          "output_type": "stream",
          "name": "stdout",
          "text": [
            "Count of Upvoted Positive references:  22 Downvoted Positive references:  3\n",
            "Count of Upvoted Neutral references:  5 Downvoted Neutral references:  0\n",
            "Count of Upvoted Negative references:  3 Downvoted Negative references:  3\n"
          ]
        }
      ]
    },
    {
      "cell_type": "code",
      "source": [
        "testdata = result_data[result_data['body'].str.lower().str.contains(\"tesla\")]\n",
        "posData = testdata[testdata['scores'].str.lower().str.contains(\"pos\")]\n",
        "negData = testdata[testdata['scores'].str.lower().str.contains(\"neg\")]\n",
        "\n",
        "print(\"Count of Upvoted Positive references: \", len(posData[posData['Analysis']=='Positive']), \"Downvoted Positive references: \", len(negData[negData['Analysis']=='Positive']))\n",
        "print(\"Count of Upvoted Neutral references: \", len(posData[posData['Analysis']=='Neutral']), \"Downvoted Neutral references: \", len(negData[negData['Analysis']=='Neutral']))\n",
        "print(\"Count of Upvoted Negative references: \", len(posData[posData['Analysis']=='Negative']), \"Downvoted Negative references: \", len(negData[negData['Analysis']=='Negative']))"
      ],
      "metadata": {
        "colab": {
          "base_uri": "https://localhost:8080/"
        },
        "id": "9OtEamPVWjt4",
        "outputId": "e7c06d9c-4b84-4418-8ae3-404e5771bd1b"
      },
      "execution_count": null,
      "outputs": [
        {
          "output_type": "stream",
          "name": "stdout",
          "text": [
            "Count of Upvoted Positive references:  9 Downvoted Positive references:  2\n",
            "Count of Upvoted Neutral references:  4 Downvoted Neutral references:  2\n",
            "Count of Upvoted Negative references:  3 Downvoted Negative references:  2\n"
          ]
        }
      ]
    },
    {
      "cell_type": "markdown",
      "metadata": {
        "id": "y2asGSwaH-pX"
      },
      "source": [
        "#Conclusion"
      ]
    },
    {
      "cell_type": "markdown",
      "source": [
        "To wrap up, we looked at several models to analysis reddit comments. While the Naive Bayes Classifier show interesting results, its accuracy was not adequate when compared to the Logistic Regression models. For this reason, the Logistic Regression models are going to be the main focus.\n",
        "\n",
        "Looking more at the first Logistic Regression model named classifier we can see how accurate it is outside of the accuracy score. One of the ways of doing this is by looking at the confusion matrix.\n",
        "(https://www.datacamp.com/community/tutorials/understanding-logistic-regression-python)"
      ],
      "metadata": {
        "id": "CSc2JdPKJfdC"
      }
    },
    {
      "cell_type": "code",
      "source": [
        "from sklearn.metrics import confusion_matrix, classification_report, accuracy_score, precision_score, recall_score\n",
        "y_pred = classifier.predict(X_test)\n",
        "confusion_matrix = confusion_matrix(y_test, y_pred)\n",
        "print(confusion_matrix)"
      ],
      "metadata": {
        "id": "yIidqk5YDM6e",
        "outputId": "b57f7dd5-7a76-4bd8-fef2-3191c6172169",
        "colab": {
          "base_uri": "https://localhost:8080/"
        }
      },
      "execution_count": null,
      "outputs": [
        {
          "output_type": "stream",
          "name": "stdout",
          "text": [
            "[[2471  192  240]\n",
            " [  33 2955   94]\n",
            " [ 234  300 3569]]\n"
          ]
        }
      ]
    },
    {
      "cell_type": "markdown",
      "source": [
        "The results from the confusion matrix tell us that:\n",
        "\n",
        "The model predicted 2,471 of the negative comments correctly and incorrectly predicted 192 of the negative comments as neutral and 240 of the negative comments as positive comments.\n",
        "\n",
        "The model predicted 2,955 of the neutral comments correctly and incorrectly predict 33 of the neutral comments as negative and 94 of the neutral comments as positive.\n",
        "\n",
        "The model predicted 3,569 of the positive comments correctly and incorrectly predicted 234 of the positive comments as negative and 300 of the positive comments as neutral.\n"
      ],
      "metadata": {
        "id": "qOK-kVJZJwFQ"
      }
    },
    {
      "cell_type": "markdown",
      "source": [
        "Additional information on the precision score and the recall score can tell us about each category individually. Something to note is one of the downsides of Logistic Regression is not being able to handle a large number of categorical features/variables because of overfitting. Though we cannot see the overall precision and recall, we can view each one separately."
      ],
      "metadata": {
        "id": "nlAPJJHPSHtM"
      }
    },
    {
      "cell_type": "code",
      "source": [
        "prec = precision_score(y_test, y_pred, average=None)\n",
        "recall = recall_score(y_test, y_pred, average=None)\n",
        "print(prec , recall)"
      ],
      "metadata": {
        "id": "mhd_yPctLwJY",
        "outputId": "fafc6d8e-054d-41ae-e5eb-68f0b4598f53",
        "colab": {
          "base_uri": "https://localhost:8080/"
        }
      },
      "execution_count": null,
      "outputs": [
        {
          "output_type": "stream",
          "name": "stdout",
          "text": [
            "[0.90248356 0.85726719 0.9144248 ] [0.85118843 0.95879299 0.86985133]\n"
          ]
        }
      ]
    },
    {
      "cell_type": "markdown",
      "source": [
        "Precision looks at how often our model is correct. In our case, the model predicts negative comments right 90% of the time, neutral comments 86% of the time, and positive comments right 91%.\n",
        "\n",
        "Recall tells us about our test set, if there are comments in the test set that are negative, our model can identify it 85% of the time. The model can identify neutral and positive comments 95% and 86% of the time respectfully."
      ],
      "metadata": {
        "id": "85gwXy9BUBNV"
      }
    },
    {
      "cell_type": "markdown",
      "source": [
        "While the classifier looks at whether the sentiment of the comments is positive or negative. We also want to look whether the sentiment of the comments, that being positive or negative, are upvoted or downvoted. We can do this by using the voteClassifier which also uses Logistic Regression. Determined above the voteClassifier has an accuracy of 68%, below we will look at the confusion matrix, precision and recall."
      ],
      "metadata": {
        "id": "RCTmRVCOptgl"
      }
    },
    {
      "cell_type": "code",
      "source": [
        "from sklearn.metrics import confusion_matrix, classification_report, accuracy_score, precision_score, recall_score\n",
        "y_pred = voteclassifier.predict(X_test)\n",
        "confusion_matrix = confusion_matrix(y_test, y_pred)\n",
        "print(confusion_matrix)"
      ],
      "metadata": {
        "colab": {
          "base_uri": "https://localhost:8080/"
        },
        "id": "zyzt8ULFdmx9",
        "outputId": "c62960bb-1c64-4ff9-b2ca-e1ba815bbe95"
      },
      "execution_count": null,
      "outputs": [
        {
          "output_type": "stream",
          "name": "stdout",
          "text": [
            "[[3387 1701]\n",
            " [1439 3561]]\n"
          ]
        }
      ]
    },
    {
      "cell_type": "markdown",
      "source": [
        "From the confusion matrix the model predicted 3,387 negative comments correctly and incorrectly predicted 1,701 negative comments as positive. The model also predicted 3,561 positive comments correctly and incorrectly predicted 1,439 positive comments as negative comments. "
      ],
      "metadata": {
        "id": "YRCj84TGpyxi"
      }
    },
    {
      "cell_type": "code",
      "source": [
        "prec = precision_score(y_test, y_pred, average=None)\n",
        "recall = recall_score(y_test, y_pred, average=None)\n",
        "print(prec , recall)"
      ],
      "metadata": {
        "colab": {
          "base_uri": "https://localhost:8080/"
        },
        "id": "_GNFOBXAdoG-",
        "outputId": "90313f1e-baad-4c89-95ab-0d64f3574e3d"
      },
      "execution_count": null,
      "outputs": [
        {
          "output_type": "stream",
          "name": "stdout",
          "text": [
            "[0.70182346 0.67673888] [0.66568396 0.7122    ]\n"
          ]
        }
      ]
    },
    {
      "cell_type": "markdown",
      "source": [
        "For the precision, the model predicted negative comments correct 70% of the time and positive comments correct 67%. For recall, the model identified negative comments in the test set 66% of the time and positive comments in the test set 71% of the time."
      ],
      "metadata": {
        "id": "DykyEysmp0Vh"
      }
    },
    {
      "cell_type": "markdown",
      "source": [
        "While the classifier Logistic model had a higher accuracy than the voteClassifier, it does not make the voteClassifier less important. This can be show when we compare an actual test against the two."
      ],
      "metadata": {
        "id": "4td1OSpkp5Hq"
      }
    },
    {
      "cell_type": "code",
      "source": [
        "new_reviews = ['Old version of python useless', 'Very good effort, but not five stars', 'Clear and concise']\n",
        "X_new = vectorizer.transform(new_reviews)\n",
        "classifier.predict(X_new)"
      ],
      "metadata": {
        "id": "d4jPy0XtP61X",
        "outputId": "ea8f5261-1413-4ce9-8256-08f6b9b0f945",
        "colab": {
          "base_uri": "https://localhost:8080/"
        }
      },
      "execution_count": null,
      "outputs": [
        {
          "output_type": "execute_result",
          "data": {
            "text/plain": [
              "array(['Negative', 'Positive', 'Positive'], dtype=object)"
            ]
          },
          "metadata": {},
          "execution_count": 76
        }
      ]
    },
    {
      "cell_type": "code",
      "source": [
        "new_reviews = ['Old version of python useless', 'Very good effort, but not five stars', 'Clear and concise']\n",
        "X_new = vectorizer.transform(new_reviews)\n",
        "voteclassifier.predict(X_new)"
      ],
      "metadata": {
        "id": "HPt8XnN3drE2",
        "outputId": "e0817737-4120-40dd-8585-451f6d682bd3",
        "colab": {
          "base_uri": "https://localhost:8080/"
        }
      },
      "execution_count": null,
      "outputs": [
        {
          "output_type": "execute_result",
          "data": {
            "text/plain": [
              "array(['pos', 'neg', 'pos'], dtype=object)"
            ]
          },
          "metadata": {},
          "execution_count": 73
        }
      ]
    },
    {
      "cell_type": "markdown",
      "source": [
        "The most significant result is from the comment “very good effort, but not five stars”. The classifier predicted this comment to be positive based on the sentiment of the comments being positive. This is most likely because it recognized the words, “good”, “effort”, and “stars” as a positive. However, the viewClassifier classified this comment as negative based on the prediction that this comment would get downvoted and therefore negative. This tells us that even though a comment has a positive sentiment, it can still be viewed as negative and downvoted. This specific comment could be viewed as negative as it is basically a back handed comment. Overall, this makes sense when factoring in how different opinions come together online. Specifically, for reddit there are many subgroups that share similar ideologies. For example, if a meat lover joins a vegan forum and comments “I love meat”, that comment will most likely be down voted. So, even though the classifier model has an 89% accuracy, in the example above, it would mostly like predict the “I love meat” as a positive comment. While the viewClassifier has a 68% accuracy it is a better representation of how the comment context is view."
      ],
      "metadata": {
        "id": "P_MAG2sbqFHv"
      }
    },
    {
      "cell_type": "markdown",
      "source": [
        "All in all, this project reviews the sentiment behind reddit comments and identifying whether that sentiment is positive or negative. Our model could be applied in reddit by bots or moderators to help identify comments. Additionally, in other real-world applications, this model could be used in in other forum sites or even on social media sites. Logistic regression has given us an accurate way to easily implement, interpret, and train data."
      ],
      "metadata": {
        "id": "qlBC-_i9bmln"
      }
    }
  ],
  "metadata": {
    "accelerator": "TPU",
    "colab": {
      "collapsed_sections": [],
      "machine_shape": "hm",
      "name": "INET4061 Final Project",
      "provenance": [],
      "include_colab_link": true
    },
    "kernelspec": {
      "display_name": "Python 3",
      "name": "python3"
    },
    "language_info": {
      "name": "python"
    }
  },
  "nbformat": 4,
  "nbformat_minor": 0
}